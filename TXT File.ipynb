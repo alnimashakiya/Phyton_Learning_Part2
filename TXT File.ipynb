{
 "cells": [
  {
   "cell_type": "markdown",
   "id": "b7b81379-c026-4769-93b2-f0a916fc1e9b",
   "metadata": {},
   "source": [
    "# TXT FILE\n",
    "\n",
    "\r\n",
    "A text file, commonly known as a .txt file, is a file containing plain text in the form of a sequence of characters. Text files do not contain any special formatting like those found in document files (such as Microsoft Word or HTML files). This means that the text in a text file is typically stored in a simple format, without colors, styles, or other design elements.\r\n",
    "\r\n",
    "Text files are one of the most common types of files used in computing. They are often used to store data in a human-readable or machine-readable text format. Examples of the use of text files include storing simple data, logs, program source code, system configurations, and much more.\r\n",
    "\r\n",
    "Text files typically have the \".txt\" extension at the end of the file name to indicate that it is a text file. However, in some cases, text files may also have different extensions depending on the type of data or format used."
   ]
  },
  {
   "cell_type": "markdown",
   "id": "919af3e9-c838-454c-9dd0-0b6b2cf7f6fe",
   "metadata": {},
   "source": [
    "## Here's how you can create a text file and write some content to it:"
   ]
  },
  {
   "cell_type": "markdown",
   "id": "5cc0dea9-1ca9-4f58-b823-4c935814cbef",
   "metadata": {},
   "source": [
    "## _Open_"
   ]
  },
  {
   "cell_type": "code",
   "execution_count": 3,
   "id": "bd72e399-0c6b-453f-a0a4-f856109a6400",
   "metadata": {},
   "outputs": [],
   "source": [
    "workfile = open('jackets.txt', 'r')"
   ]
  },
  {
   "cell_type": "code",
   "execution_count": 4,
   "id": "84fff507-edb5-4a34-8676-46898f41762d",
   "metadata": {},
   "outputs": [],
   "source": [
    "workfilecontents = workfile.read()"
   ]
  },
  {
   "cell_type": "code",
   "execution_count": 5,
   "id": "83a21c7a-c85b-4c5c-afea-b01230e5af19",
   "metadata": {},
   "outputs": [
    {
     "name": "stdout",
     "output_type": "stream",
     "text": [
      "Product, Price\n",
      "Big Down Jacket, 100\n",
      "Medium Down Jacket, 80\n",
      "Regular Jacket, 40\n"
     ]
    }
   ],
   "source": [
    "print(workfilecontents)"
   ]
  },
  {
   "cell_type": "markdown",
   "id": "38f0d117-89c1-4885-b773-e6180e57ade6",
   "metadata": {},
   "source": [
    "## _Read_"
   ]
  },
  {
   "cell_type": "code",
   "execution_count": 6,
   "id": "649f1cbd-fec6-46dd-a9e7-f25a840d9c73",
   "metadata": {},
   "outputs": [],
   "source": [
    "workfile = open('jackets.txt', 'r')"
   ]
  },
  {
   "cell_type": "code",
   "execution_count": 7,
   "id": "1bcfd069-4aa6-431d-a690-f2c7c575dacd",
   "metadata": {},
   "outputs": [],
   "source": [
    "workfilefirstline = workfile.readline()"
   ]
  },
  {
   "cell_type": "code",
   "execution_count": 8,
   "id": "7cb1fad9-d1eb-4e9d-b3bb-8e80c93f4a8d",
   "metadata": {},
   "outputs": [
    {
     "name": "stdout",
     "output_type": "stream",
     "text": [
      "Product, Price\n",
      "\n"
     ]
    }
   ],
   "source": [
    "print(workfilefirstline)"
   ]
  },
  {
   "cell_type": "code",
   "execution_count": 9,
   "id": "0a9c6f71-b8e2-43ac-9e41-bc645da90f35",
   "metadata": {},
   "outputs": [],
   "source": [
    "workfilesecondline = workfile.readline()"
   ]
  },
  {
   "cell_type": "code",
   "execution_count": 10,
   "id": "42064cd4-230a-4ae7-b4e9-f48b1a89169f",
   "metadata": {},
   "outputs": [
    {
     "name": "stdout",
     "output_type": "stream",
     "text": [
      "Big Down Jacket, 100\n",
      "\n"
     ]
    }
   ],
   "source": [
    "print(workfilesecondline)"
   ]
  },
  {
   "cell_type": "markdown",
   "id": "c9506f26-d3b7-42ff-8343-50ea887a7171",
   "metadata": {},
   "source": [
    "## _Close_"
   ]
  },
  {
   "cell_type": "code",
   "execution_count": 11,
   "id": "0f7c1352-b5f3-46e1-bc89-a36bc1a184e1",
   "metadata": {},
   "outputs": [],
   "source": [
    "workfile.close()"
   ]
  },
  {
   "cell_type": "markdown",
   "id": "b436e802-ec28-430e-8e35-1a380dc75fc1",
   "metadata": {},
   "source": [
    "## More Example"
   ]
  },
  {
   "cell_type": "markdown",
   "id": "594a4c09-19f9-41ca-85c8-8a372aa7e647",
   "metadata": {},
   "source": [
    "## _Open_"
   ]
  },
  {
   "cell_type": "code",
   "execution_count": 12,
   "id": "139b7a51-aa53-4921-ac64-62a50968a3c8",
   "metadata": {},
   "outputs": [],
   "source": [
    "filmfile = open('films.txt', 'r')"
   ]
  },
  {
   "cell_type": "code",
   "execution_count": 13,
   "id": "eccea9bd-b927-4996-ba4c-25df8e6a0a52",
   "metadata": {},
   "outputs": [],
   "source": [
    "filmfiles = filmfile.read()"
   ]
  },
  {
   "cell_type": "code",
   "execution_count": 14,
   "id": "9f4c9617-81d7-4504-a859-c059a1235cff",
   "metadata": {},
   "outputs": [
    {
     "name": "stdout",
     "output_type": "stream",
     "text": [
      "Title, Genre, Year\n",
      "Inception, Science Fiction, 2010\n",
      "The Shawshank Redemption, Drama, 1994\n",
      "Pulp Fiction, Crime, 1994\n",
      "The Dark Knight, Action, 2008\n",
      "The Godfather, Crime, 1972\n",
      "Forrest Gump, Drama, 1994\n",
      "Fight Club, Drama, 1999\n",
      "The Matrix, Science Fiction, 1999\n",
      "Interstellar, Science Fiction, 2014\n",
      "The Lord of the Rings: The Return of the King, Fantasy, 2003\n"
     ]
    }
   ],
   "source": [
    "print(filmfiles)"
   ]
  },
  {
   "cell_type": "markdown",
   "id": "805455bf-7bfa-42d5-a67a-25032b1dcdf6",
   "metadata": {},
   "source": [
    "## _Read_"
   ]
  },
  {
   "cell_type": "code",
   "execution_count": 17,
   "id": "4cfa4613-aa50-44a0-803b-bc9db4c524d2",
   "metadata": {},
   "outputs": [],
   "source": [
    "filmfile = open('films.txt', 'r')"
   ]
  },
  {
   "cell_type": "code",
   "execution_count": 20,
   "id": "5e694173-f00f-4d88-b671-58cdd4dcf588",
   "metadata": {},
   "outputs": [],
   "source": [
    "filmfilefirstline = filmfile.readline()"
   ]
  },
  {
   "cell_type": "code",
   "execution_count": 21,
   "id": "4c367377-2a78-4461-ba06-7c22bd838ac9",
   "metadata": {},
   "outputs": [
    {
     "name": "stdout",
     "output_type": "stream",
     "text": [
      "Inception, Science Fiction, 2010\n",
      "\n"
     ]
    }
   ],
   "source": [
    "print(filmfilefirstline)"
   ]
  },
  {
   "cell_type": "code",
   "execution_count": 22,
   "id": "83659c53-c9da-437b-b2e9-d84840359e70",
   "metadata": {},
   "outputs": [],
   "source": [
    "filmfilethirdline = filmfile.readline()"
   ]
  },
  {
   "cell_type": "code",
   "execution_count": 23,
   "id": "47aba4ce-59f2-4437-8fc6-c40713ce2294",
   "metadata": {},
   "outputs": [
    {
     "name": "stdout",
     "output_type": "stream",
     "text": [
      "The Shawshank Redemption, Drama, 1994\n",
      "\n"
     ]
    }
   ],
   "source": [
    "print(filmfilethirdline)"
   ]
  },
  {
   "cell_type": "markdown",
   "id": "c61c4784-188c-4021-a56b-a67620254480",
   "metadata": {},
   "source": [
    "## _Close_"
   ]
  },
  {
   "cell_type": "code",
   "execution_count": 24,
   "id": "87ccc51e-6dfd-4273-b26d-ea7636436c1b",
   "metadata": {},
   "outputs": [],
   "source": [
    "filmfile.close()"
   ]
  },
  {
   "cell_type": "code",
   "execution_count": null,
   "id": "0b2f36e0-1841-46df-ab56-050974a2ff1d",
   "metadata": {},
   "outputs": [],
   "source": []
  }
 ],
 "metadata": {
  "kernelspec": {
   "display_name": "Python 3 (ipykernel)",
   "language": "python",
   "name": "python3"
  },
  "language_info": {
   "codemirror_mode": {
    "name": "ipython",
    "version": 3
   },
   "file_extension": ".py",
   "mimetype": "text/x-python",
   "name": "python",
   "nbconvert_exporter": "python",
   "pygments_lexer": "ipython3",
   "version": "3.11.7"
  }
 },
 "nbformat": 4,
 "nbformat_minor": 5
}
