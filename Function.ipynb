{
 "cells": [
  {
   "cell_type": "markdown",
   "id": "b884c097-a313-46fd-92f1-a5f19215724b",
   "metadata": {},
   "source": [
    "# FUNCTION\n",
    "\n",
    "In Python, a function is a block of reusable code that performs a specific task. Functions allow you to break down your program into smaller, manageable pieces, making your code more modular, readable, and easier to maintain."
   ]
  },
  {
   "cell_type": "markdown",
   "id": "27d8152f-5457-4850-86bf-4495475c6310",
   "metadata": {},
   "source": [
    "#### Here's a basic syntax for defining and using functions in Python:"
   ]
  },
  {
   "cell_type": "code",
   "execution_count": 1,
   "id": "9ccc4d8f-40e7-41d3-901d-eca6b75f8bde",
   "metadata": {},
   "outputs": [
    {
     "ename": "NameError",
     "evalue": "name 'arguments' is not defined",
     "output_type": "error",
     "traceback": [
      "\u001b[1;31m---------------------------------------------------------------------------\u001b[0m",
      "\u001b[1;31mNameError\u001b[0m                                 Traceback (most recent call last)",
      "Cell \u001b[1;32mIn[1], line 8\u001b[0m\n\u001b[0;32m      5\u001b[0m     \u001b[38;5;28;01mreturn\u001b[39;00m result\n\u001b[0;32m      7\u001b[0m \u001b[38;5;66;03m# Calling the function\u001b[39;00m\n\u001b[1;32m----> 8\u001b[0m result \u001b[38;5;241m=\u001b[39m function_name(arguments)\n",
      "\u001b[1;31mNameError\u001b[0m: name 'arguments' is not defined"
     ]
    }
   ],
   "source": [
    "def function_name(parameters):\n",
    "    \"\"\"docstring\"\"\"\n",
    "    # Function body\n",
    "    # Perform operations\n",
    "    return result\n",
    "\n",
    "# Calling the function\n",
    "result = function_name(arguments)"
   ]
  },
  {
   "cell_type": "markdown",
   "id": "d16c6f40-035f-4d1a-aac8-fc99327633f4",
   "metadata": {},
   "source": [
    "Let's break down the components:\n",
    "\n",
    "- def: It's a keyword used to define a function.\n",
    "- function_name: It's the name of the function. Choose a descriptive name that reflects the purpose of the function.\n",
    "- parameters: They are optional, and you can pass zero or more parameters to a function. Parameters are variables that receive values when the function is called.\n",
    "- docstring: It's an optional string literal that describes what the function does. It's good practice to include a docstring to document the purpose, usage, and parameters of the function.\n",
    "- Function body: It's the block of code inside the function where you write the operations to be performed.\n",
    "- return: It's a keyword used to return a value from the function. The return statement is optional, and if omitted, the function returns None.\n",
    "- result: It's the value returned by the function."
   ]
  },
  {
   "cell_type": "markdown",
   "id": "c0f38e2a-cd15-4bd1-aa0e-1ffa9dfd562f",
   "metadata": {},
   "source": [
    "### Example"
   ]
  },
  {
   "cell_type": "code",
   "execution_count": 3,
   "id": "3698a3cd-79ad-4437-be9e-c7304bd09c32",
   "metadata": {},
   "outputs": [],
   "source": [
    "def power(x):\n",
    "    square = x**2\n",
    "    return square"
   ]
  },
  {
   "cell_type": "code",
   "execution_count": 4,
   "id": "449d0ca4-0216-4b35-96b2-c89b2679e59b",
   "metadata": {},
   "outputs": [
    {
     "data": {
      "text/plain": [
       "81"
      ]
     },
     "execution_count": 4,
     "metadata": {},
     "output_type": "execute_result"
    }
   ],
   "source": [
    "power (9)"
   ]
  },
  {
   "cell_type": "code",
   "execution_count": 5,
   "id": "0f0cc2ee-b0f2-4af2-80a4-1608adf87231",
   "metadata": {},
   "outputs": [],
   "source": [
    "def power_three(x):\n",
    "    cubic = x**3\n",
    "    print(cubic)"
   ]
  },
  {
   "cell_type": "code",
   "execution_count": 6,
   "id": "f1925b82-d9c1-4a88-aa2d-e4d0f7940fd1",
   "metadata": {},
   "outputs": [
    {
     "name": "stdout",
     "output_type": "stream",
     "text": [
      "125\n"
     ]
    }
   ],
   "source": [
    "power_three (5)"
   ]
  },
  {
   "cell_type": "code",
   "execution_count": 7,
   "id": "41ffd5c8-c5f4-4dbc-abfd-ac9c65eb3b31",
   "metadata": {},
   "outputs": [],
   "source": [
    "def power_four(x):\n",
    "    quartic = x**4\n",
    "    print(quartic)"
   ]
  },
  {
   "cell_type": "code",
   "execution_count": 8,
   "id": "5a5803f8-d012-458e-92a8-79d92a64874c",
   "metadata": {},
   "outputs": [
    {
     "name": "stdout",
     "output_type": "stream",
     "text": [
      "81\n"
     ]
    }
   ],
   "source": [
    "power_four (3)"
   ]
  },
  {
   "cell_type": "code",
   "execution_count": 9,
   "id": "216332a0-5560-4c94-8673-180b814efbb6",
   "metadata": {},
   "outputs": [],
   "source": [
    "def triangle_area(base, height):\n",
    "    area = 0.5 * base * height\n",
    "    return area"
   ]
  },
  {
   "cell_type": "code",
   "execution_count": 10,
   "id": "6ef37600-0020-4d0e-877a-34a9808998a3",
   "metadata": {},
   "outputs": [],
   "source": [
    "base = 7\n",
    "height = 9"
   ]
  },
  {
   "cell_type": "code",
   "execution_count": 11,
   "id": "aa97d000-f1ab-401b-bcb7-ccdcb199cce3",
   "metadata": {},
   "outputs": [
    {
     "name": "stdout",
     "output_type": "stream",
     "text": [
      "Triangle Area: 31.5\n"
     ]
    }
   ],
   "source": [
    "print(\"Triangle Area:\", triangle_area(base, height))"
   ]
  },
  {
   "cell_type": "markdown",
   "id": "43d6bd61-a35c-46cc-90f2-3c562c63727c",
   "metadata": {},
   "source": [
    "##### Return\n",
    "\n",
    "In Python, the return statement is used within a function to exit the function and return a value or an expression to the caller. When a return statement is encountered in a function, the function's execution is terminated immediately, and control is passed back to the point where the function was called from."
   ]
  },
  {
   "cell_type": "markdown",
   "id": "0280f2e3-5f2b-41b7-861d-e45fac7ac3b0",
   "metadata": {},
   "source": [
    "#### Example"
   ]
  },
  {
   "cell_type": "code",
   "execution_count": 12,
   "id": "e842a4c5-83c3-4c3c-bc99-856cd48c61ee",
   "metadata": {},
   "outputs": [],
   "source": [
    "def triangle(a, b, c): # (a=base),(b=height),(c=hypotenuse)\n",
    "    area = 0.5 * a * b\n",
    "    perimeter = a + b + c\n",
    "    return perimeter"
   ]
  },
  {
   "cell_type": "markdown",
   "id": "573686e4-7084-4d11-9e67-a4ff559e7151",
   "metadata": {},
   "source": [
    "This function calculates the perimeter of a triangle given the lengths of its base (a), height (b), and hypotenuse (c). It returns the perimeter of the triangle."
   ]
  },
  {
   "cell_type": "code",
   "execution_count": 13,
   "id": "3c1d8d36-e636-416b-856e-d3dbc5bb72af",
   "metadata": {},
   "outputs": [],
   "source": [
    "a = 8\n",
    "b = 10\n",
    "c = 13"
   ]
  },
  {
   "cell_type": "code",
   "execution_count": 14,
   "id": "8586e664-ff6c-4775-8431-667e7012dca8",
   "metadata": {},
   "outputs": [
    {
     "name": "stdout",
     "output_type": "stream",
     "text": [
      "Perimeter: 31\n"
     ]
    }
   ],
   "source": [
    "print(\"Perimeter:\", triangle(a, b, c))"
   ]
  },
  {
   "cell_type": "markdown",
   "id": "54f2b0a1-77a7-49a5-bdb7-97f91ae3dc94",
   "metadata": {},
   "source": [
    "This line of code prints the perimeter of the triangle calculated using the triangle function, where a, b, and c are the lengths of the triangle's base, height, and hypotenuse respectively."
   ]
  },
  {
   "cell_type": "markdown",
   "id": "707a47ef-45a8-4592-bcc1-3e2848528a6d",
   "metadata": {},
   "source": [
    "#### Another Example"
   ]
  },
  {
   "cell_type": "code",
   "execution_count": 16,
   "id": "a2cf6128-558d-447e-96a1-25662b529d22",
   "metadata": {},
   "outputs": [
    {
     "name": "stdin",
     "output_type": "stream",
     "text": [
      " 7\n"
     ]
    },
    {
     "name": "stdout",
     "output_type": "stream",
     "text": [
      "The result is 49\n"
     ]
    }
   ],
   "source": [
    "number = int(input().strip())\n",
    "result = power(number)\n",
    "print(\"The result is {}\".format(result))"
   ]
  },
  {
   "cell_type": "code",
   "execution_count": 17,
   "id": "85ed224d-2fe5-4ade-a6f7-9b18d5524fe7",
   "metadata": {},
   "outputs": [
    {
     "name": "stdout",
     "output_type": "stream",
     "text": [
      "The square of 7 is 49\n"
     ]
    }
   ],
   "source": [
    "print(\"The square of {} is {}\".format(number, result))"
   ]
  },
  {
   "cell_type": "markdown",
   "id": "90d7335a-31fe-4df2-beda-d3c21a0c1708",
   "metadata": {},
   "source": [
    "##### Modify"
   ]
  },
  {
   "cell_type": "markdown",
   "id": "cce2037f-127c-4d00-9ae1-8334cb5af220",
   "metadata": {},
   "source": [
    "To modify a list within a function in Python, you can pass the list as an argument to the function and make changes to it directly within the function. Since lists are mutable objects in Python, any modifications made to the list inside the function will affect the original list."
   ]
  },
  {
   "cell_type": "markdown",
   "id": "1fb2a07d-2a32-4980-a33e-f548f2b3e513",
   "metadata": {},
   "source": [
    "#### Example"
   ]
  },
  {
   "cell_type": "code",
   "execution_count": 18,
   "id": "76cf0630-f3eb-4f46-a1b7-f9e3ae2eec02",
   "metadata": {},
   "outputs": [],
   "source": [
    "def modify_list(input_list):\n",
    "    input_list.append([123, 175])\n",
    "    print(\"Values within the function are {}\".format(input_list))"
   ]
  },
  {
   "cell_type": "code",
   "execution_count": 19,
   "id": "69c7e217-2c18-42e5-8741-c9ee02930a66",
   "metadata": {},
   "outputs": [
    {
     "name": "stdout",
     "output_type": "stream",
     "text": [
      "Values within the function are [110, [123, 175]]\n"
     ]
    }
   ],
   "source": [
    "modify_list([110])"
   ]
  },
  {
   "cell_type": "code",
   "execution_count": 20,
   "id": "c4f0c82c-7cc3-4cfb-b91a-87956fcce224",
   "metadata": {},
   "outputs": [
    {
     "name": "stdout",
     "output_type": "stream",
     "text": [
      "Values within the function are [120, [123, 175]]\n"
     ]
    }
   ],
   "source": [
    "modify_list([120])"
   ]
  },
  {
   "cell_type": "code",
   "execution_count": 21,
   "id": "6b445d4b-2860-4f9c-ae49-0c918e16f994",
   "metadata": {},
   "outputs": [
    {
     "name": "stdout",
     "output_type": "stream",
     "text": [
      "Values within the function are [110, [123, 175]]\n",
      "Values within the function are [110, [123, 175]]\n"
     ]
    }
   ],
   "source": [
    "input_list = [110]\n",
    "modify_list(input_list)\n",
    "print(\"Values within the function are {}\".format(input_list))"
   ]
  },
  {
   "cell_type": "code",
   "execution_count": 22,
   "id": "865d6df8-4d61-4755-8e38-d1a0baab607f",
   "metadata": {},
   "outputs": [],
   "source": [
    "def modify_values(value_list):\n",
    "    value_list.append([80, 90])\n",
    "    print(\"The list of values is {}\".format(value_list))"
   ]
  },
  {
   "cell_type": "code",
   "execution_count": 23,
   "id": "2507a964-c9ca-417c-af57-19484a30dd90",
   "metadata": {},
   "outputs": [
    {
     "name": "stdout",
     "output_type": "stream",
     "text": [
      "The list of values is [70, [80, 90]]\n"
     ]
    }
   ],
   "source": [
    "modify_values ([70])"
   ]
  },
  {
   "cell_type": "code",
   "execution_count": 24,
   "id": "fb47941a-396a-4a09-9800-10e6194f001c",
   "metadata": {},
   "outputs": [
    {
     "name": "stdout",
     "output_type": "stream",
     "text": [
      "The list of values is [75, [80, 90]]\n"
     ]
    }
   ],
   "source": [
    "modify_values ([75])"
   ]
  },
  {
   "cell_type": "markdown",
   "id": "6e26a1ee-b91b-4fd8-87d3-de954ab00a7d",
   "metadata": {},
   "source": [
    "##### Create a function (parameters are changed and parameters are assigned)\r\n"
   ]
  },
  {
   "cell_type": "code",
   "execution_count": 25,
   "id": "1ca27481-a17d-4024-b799-19dda03198e6",
   "metadata": {},
   "outputs": [
    {
     "name": "stdout",
     "output_type": "stream",
     "text": [
      "The list of values is [75, [80, 90]]\n",
      "The list of values is [75, [80, 90]]\n"
     ]
    }
   ],
   "source": [
    "value_list = [75]\n",
    "modify_values(value_list)\n",
    "print(\"The list of values is {}\".format(value_list))"
   ]
  },
  {
   "cell_type": "markdown",
   "id": "951b71d8-4b99-4a46-acae-e616137a79ef",
   "metadata": {},
   "source": [
    "This code snippet first initializes a list value_list with a single element 75, then calls the modify_values function with value_list as an argument. After the function call, it prints the modified value_list to see the changes made within the function."
   ]
  },
  {
   "cell_type": "code",
   "execution_count": null,
   "id": "4dfad061-3700-4e27-947a-c44824b2bb05",
   "metadata": {},
   "outputs": [],
   "source": []
  }
 ],
 "metadata": {
  "kernelspec": {
   "display_name": "Python 3 (ipykernel)",
   "language": "python",
   "name": "python3"
  },
  "language_info": {
   "codemirror_mode": {
    "name": "ipython",
    "version": 3
   },
   "file_extension": ".py",
   "mimetype": "text/x-python",
   "name": "python",
   "nbconvert_exporter": "python",
   "pygments_lexer": "ipython3",
   "version": "3.11.7"
  }
 },
 "nbformat": 4,
 "nbformat_minor": 5
}
