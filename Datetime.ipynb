{
 "cells": [
  {
   "cell_type": "markdown",
   "id": "879c70f7-cc2f-478b-896a-f71927111ad2",
   "metadata": {},
   "source": [
    "# DATETIME\n",
    "\n",
    "In Python, the datetime module provides classes for manipulating dates and times. Here's an overview of how to use the datetime module:"
   ]
  },
  {
   "cell_type": "markdown",
   "id": "d07ad8bc-2811-4262-bb32-d04a31073386",
   "metadata": {},
   "source": [
    "## 1. Importing the datetime module:Before using any functionality from the datetime module, you need to import it:"
   ]
  },
  {
   "cell_type": "code",
   "execution_count": 22,
   "id": "b723b17c-4d85-4c4c-94ef-fa90e6a7f66c",
   "metadata": {},
   "outputs": [],
   "source": [
    "import datetime"
   ]
  },
  {
   "cell_type": "markdown",
   "id": "4d3fcd71-8de0-42b9-8382-76c47b089c80",
   "metadata": {},
   "source": [
    "## 2. Date and Time Objects:The datetime module provides several classes for representing dates and times:"
   ]
  },
  {
   "cell_type": "markdown",
   "id": "d7fb06d5-9530-4f2d-a1e6-45c250063690",
   "metadata": {},
   "source": [
    "- datetime.date: Represents a date (year, month, day).\n",
    "- datetime.time: Represents a time (hour, minute, second, microsecond).\n",
    "- datetime.datetime: Represents both date and time.\n",
    "- datetime.timedelta: Represents a duration or difference between two dates or times.\n",
    "- datetime.timezone: Represents a time zone."
   ]
  },
  {
   "cell_type": "markdown",
   "id": "d3340212-8fee-420d-bbb0-9f69481648e9",
   "metadata": {},
   "source": [
    "## 3. Creating Date and Time Objects:You can create date and time objects using the constructors provided by the datetime module:"
   ]
  },
  {
   "cell_type": "code",
   "execution_count": 2,
   "id": "0a0356f2-6450-46af-8d44-53cdc62e7913",
   "metadata": {},
   "outputs": [],
   "source": [
    "# Creating date objects\n",
    "\n",
    "today = datetime.date.today()"
   ]
  },
  {
   "cell_type": "code",
   "execution_count": 3,
   "id": "7929eb2b-aa5f-4d7b-959e-1857c96c7b5f",
   "metadata": {},
   "outputs": [
    {
     "data": {
      "text/plain": [
       "datetime.date(2024, 4, 20)"
      ]
     },
     "execution_count": 3,
     "metadata": {},
     "output_type": "execute_result"
    }
   ],
   "source": [
    "today"
   ]
  },
  {
   "cell_type": "code",
   "execution_count": 9,
   "id": "330701d6-f6f9-4223-a0d2-2041a67bd8ed",
   "metadata": {},
   "outputs": [],
   "source": [
    "# Creating datetime objects\n",
    "\n",
    "now = datetime.datetime.now()"
   ]
  },
  {
   "cell_type": "code",
   "execution_count": 10,
   "id": "3e70d1a1-43a2-48f2-94f5-f16c139af602",
   "metadata": {},
   "outputs": [
    {
     "data": {
      "text/plain": [
       "datetime.datetime(2024, 4, 20, 14, 8, 51, 101469)"
      ]
     },
     "execution_count": 10,
     "metadata": {},
     "output_type": "execute_result"
    }
   ],
   "source": [
    "now"
   ]
  },
  {
   "cell_type": "markdown",
   "id": "1a688eea-5e36-4a58-8236-eb72e8eea05f",
   "metadata": {},
   "source": [
    "## 4. Formatting and Parsing:You can format date and time objects into strings using the strftime() method and parse strings into date and time objects using the strptime() function:"
   ]
  },
  {
   "cell_type": "markdown",
   "id": "ced5cfa1-c212-42a7-828c-504a85058134",
   "metadata": {},
   "source": [
    "### Formatting date and time objects"
   ]
  },
  {
   "cell_type": "code",
   "execution_count": 11,
   "id": "66a0d701-9cc7-47bf-b45c-f79fd55600ee",
   "metadata": {},
   "outputs": [],
   "source": [
    "formatted_date = today.strftime(\"%Y-%m-%d\")"
   ]
  },
  {
   "cell_type": "code",
   "execution_count": 12,
   "id": "1b77c850-9f72-4725-b5f3-b0ac542ce3f8",
   "metadata": {},
   "outputs": [
    {
     "data": {
      "text/plain": [
       "'2024-04-20'"
      ]
     },
     "execution_count": 12,
     "metadata": {},
     "output_type": "execute_result"
    }
   ],
   "source": [
    "formatted_date"
   ]
  },
  {
   "cell_type": "code",
   "execution_count": 16,
   "id": "6848a3e1-2991-40df-9d4f-b65019bf1cce",
   "metadata": {},
   "outputs": [],
   "source": [
    "formatted_time = datetime.datetime.strftime(today, \"%H:%M:%S\")"
   ]
  },
  {
   "cell_type": "code",
   "execution_count": 17,
   "id": "7b94ea90-ff23-456d-b902-da2c34597f27",
   "metadata": {},
   "outputs": [
    {
     "data": {
      "text/plain": [
       "'00:00:00'"
      ]
     },
     "execution_count": 17,
     "metadata": {},
     "output_type": "execute_result"
    }
   ],
   "source": [
    "formatted_time"
   ]
  },
  {
   "cell_type": "code",
   "execution_count": 18,
   "id": "7e981d50-8ec4-492d-a5d0-83e875cd43b3",
   "metadata": {},
   "outputs": [],
   "source": [
    "formatted_datetime = now.strftime(\"%Y-%m-%d %H:%M:%S\")"
   ]
  },
  {
   "cell_type": "code",
   "execution_count": 19,
   "id": "a4b835b4-55b5-443b-ad72-f28fdb5488eb",
   "metadata": {},
   "outputs": [
    {
     "data": {
      "text/plain": [
       "'2024-04-20 14:08:51'"
      ]
     },
     "execution_count": 19,
     "metadata": {},
     "output_type": "execute_result"
    }
   ],
   "source": [
    "formatted_datetime"
   ]
  },
  {
   "cell_type": "code",
   "execution_count": 26,
   "id": "aeafd3e9-3e3b-48f5-8b7b-99be9344f678",
   "metadata": {},
   "outputs": [],
   "source": [
    "long_format = now.strftime(\"%A, %B %d, %Y %I:%M %p\")"
   ]
  },
  {
   "cell_type": "code",
   "execution_count": 27,
   "id": "022581ab-33b2-484e-9c5b-711a3c646c54",
   "metadata": {},
   "outputs": [
    {
     "data": {
      "text/plain": [
       "'Saturday, April 20, 2024 02:08 PM'"
      ]
     },
     "execution_count": 27,
     "metadata": {},
     "output_type": "execute_result"
    }
   ],
   "source": [
    "long_format"
   ]
  },
  {
   "cell_type": "code",
   "execution_count": 31,
   "id": "de741d96-e276-4256-9470-3a83485747c2",
   "metadata": {},
   "outputs": [],
   "source": [
    "rfc_format = now.strftime(\"%a, %d %b %Y %H:%M:%S %z\")"
   ]
  },
  {
   "cell_type": "code",
   "execution_count": 32,
   "id": "654e73bb-a636-4c8e-b8f5-ab7ca9726c5a",
   "metadata": {},
   "outputs": [
    {
     "data": {
      "text/plain": [
       "'Sat, 20 Apr 2024 14:08:51 '"
      ]
     },
     "execution_count": 32,
     "metadata": {},
     "output_type": "execute_result"
    }
   ],
   "source": [
    "rfc_format"
   ]
  },
  {
   "cell_type": "code",
   "execution_count": 33,
   "id": "3f51e8d9-0ad0-4a0b-85b3-ebc12be38278",
   "metadata": {},
   "outputs": [],
   "source": [
    "long_month_name = now.strftime(\"%A, %d %B %Y %H:%M:%S %z\")"
   ]
  },
  {
   "cell_type": "code",
   "execution_count": 34,
   "id": "88a7316d-755c-49f3-91c7-3625762d1f26",
   "metadata": {},
   "outputs": [
    {
     "data": {
      "text/plain": [
       "'Saturday, 20 April 2024 14:08:51 '"
      ]
     },
     "execution_count": 34,
     "metadata": {},
     "output_type": "execute_result"
    }
   ],
   "source": [
    "long_month_name"
   ]
  },
  {
   "cell_type": "markdown",
   "id": "d40e8ef5-527f-41f4-ac08-582181e0a78f",
   "metadata": {},
   "source": [
    "_These are some of the basic functionalities provided by the datetime module in Python for working with dates and times. It's a powerful module that's widely used in various applications for handling temporal data._"
   ]
  },
  {
   "cell_type": "code",
   "execution_count": null,
   "id": "9e903313-5bb1-41b5-bede-b0e15952ebe1",
   "metadata": {},
   "outputs": [],
   "source": []
  }
 ],
 "metadata": {
  "kernelspec": {
   "display_name": "Python 3 (ipykernel)",
   "language": "python",
   "name": "python3"
  },
  "language_info": {
   "codemirror_mode": {
    "name": "ipython",
    "version": 3
   },
   "file_extension": ".py",
   "mimetype": "text/x-python",
   "name": "python",
   "nbconvert_exporter": "python",
   "pygments_lexer": "ipython3",
   "version": "3.11.7"
  }
 },
 "nbformat": 4,
 "nbformat_minor": 5
}
