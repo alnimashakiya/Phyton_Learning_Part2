{
 "cells": [
  {
   "cell_type": "markdown",
   "id": "32138bf2-6ca5-49c5-9b7f-961f60d78c8b",
   "metadata": {},
   "source": [
    "# PANDAS\n",
    "\r\n",
    "In Python, Pandas is a powerful and widely used open-source library used for data manipulation and analysis. It provides easy-to-use data structures and data analysis tools for handling structured data. The primary data structures in Pandas are Series (one-dimensional labeled array) and DataFrame (two-dimensional labeled data structure with rows and columns)."
   ]
  },
  {
   "cell_type": "markdown",
   "id": "b26e1cdd-24eb-4b83-a059-88a4a6dd2bef",
   "metadata": {},
   "source": [
    "## Object Series\n",
    "\n",
    " A Series is a one-dimensional labeled array that can hold data of any type (integer, float, string, etc.). It is similar to a column in a DataFrame or a single column of data."
   ]
  },
  {
   "cell_type": "code",
   "execution_count": 140,
   "id": "2258fdd3-64ce-4b45-a9bd-8b0cb1f47a4f",
   "metadata": {},
   "outputs": [],
   "source": [
    "# Import library\n",
    "import pandas as pd\n",
    "import numpy as np"
   ]
  },
  {
   "cell_type": "markdown",
   "id": "b9efb03c-2cc4-4d6f-80d2-a9b90eabecf4",
   "metadata": {},
   "source": [
    "#### Example"
   ]
  },
  {
   "cell_type": "markdown",
   "id": "9acb0202-3bbf-453e-9788-110148ed2519",
   "metadata": {},
   "source": [
    "##### Implicit Index\n",
    "\n",
    "Implicit indexing refers to the default integer-based index labels automatically assigned to elements in a data structure. When you create a data structure like a list, tuple, or NumPy array without specifying custom index labels, it will have implicit indexing where elements are accessed using integer indices starting from 0."
   ]
  },
  {
   "cell_type": "code",
   "execution_count": 129,
   "id": "2f6aaecc-bdbf-4c70-ac5a-89206ec8ccb8",
   "metadata": {},
   "outputs": [],
   "source": [
    "import pandas as pd\n",
    "\n",
    "data = [1, 3, 5, 7, 9]\n",
    "series = pd.Series(data)"
   ]
  },
  {
   "cell_type": "code",
   "execution_count": 3,
   "id": "96675698-18e7-4b4a-a81f-86d7e624697b",
   "metadata": {},
   "outputs": [
    {
     "name": "stdout",
     "output_type": "stream",
     "text": [
      "0    1\n",
      "1    3\n",
      "2    5\n",
      "3    7\n",
      "4    9\n",
      "dtype: int64\n"
     ]
    }
   ],
   "source": [
    "print(series)"
   ]
  },
  {
   "cell_type": "markdown",
   "id": "0b468eb2-ace2-408e-ae73-921d1072839e",
   "metadata": {},
   "source": [
    "In this example:\n",
    "\n",
    "- We import Pandas as pd.\n",
    "- We create a Python list data containing integers [1, 3, 5, 7, 9].\n",
    "- We use the pd.Series() function to create a Pandas Series from the list data.\n",
    "- We print the Series.\n",
    "    \n",
    "The output shows a one-dimensional labeled array (Series) with the index on the left and the corresponding values on the right. By default, when you create a Series from a list, Pandas assigns numerical index labels starting from 0. In this case, the values of the Series are [1, 3, 5, 7, 9] with index labels 0, 1, 2, 3, and 4 respectively."
   ]
  },
  {
   "cell_type": "code",
   "execution_count": 6,
   "id": "816e4902-b1c2-422b-a7ed-1e8907202aa2",
   "metadata": {},
   "outputs": [
    {
     "data": {
      "text/plain": [
       "array([1, 3, 5, 7, 9], dtype=int64)"
      ]
     },
     "execution_count": 6,
     "metadata": {},
     "output_type": "execute_result"
    }
   ],
   "source": [
    "# Convert from Series to array\n",
    "series.values"
   ]
  },
  {
   "cell_type": "code",
   "execution_count": 7,
   "id": "9dcaea65-cc48-4441-991b-2ade6928ef55",
   "metadata": {},
   "outputs": [
    {
     "data": {
      "text/plain": [
       "RangeIndex(start=0, stop=5, step=1)"
      ]
     },
     "execution_count": 7,
     "metadata": {},
     "output_type": "execute_result"
    }
   ],
   "source": [
    "# Displaying Index\n",
    "series.index"
   ]
  },
  {
   "cell_type": "code",
   "execution_count": 21,
   "id": "e6c40a96-81a4-443d-be33-2d939aeecc1b",
   "metadata": {},
   "outputs": [
    {
     "data": {
      "text/plain": [
       "5"
      ]
     },
     "execution_count": 21,
     "metadata": {},
     "output_type": "execute_result"
    }
   ],
   "source": [
    "series[2]"
   ]
  },
  {
   "cell_type": "markdown",
   "id": "999ad155-b8b7-4a6d-b465-8925298d7ead",
   "metadata": {},
   "source": [
    "##### Explicit Index\n",
    "\n",
    "Explicit indexing refers to the use of user-defined or custom index labels to access elements in a data structure. In this case, you specify meaningful labels for each element in the data structure, making it easier to access elements by their associated labels instead of relying on integer indices."
   ]
  },
  {
   "cell_type": "code",
   "execution_count": 13,
   "id": "3e2f5b9f-667c-41f8-ae52-d85ff91f4096",
   "metadata": {},
   "outputs": [],
   "source": [
    "names = ['Alnima', 'Andhito', 'Shafira', 'Laksmi', 'Aswin']\n",
    "data = [100, 200, 300, 400, 500]\n",
    "names_with_data = pd.Series(names, index=data)"
   ]
  },
  {
   "cell_type": "code",
   "execution_count": 14,
   "id": "c563e97a-8235-4cf4-b031-3032e95d7d41",
   "metadata": {},
   "outputs": [
    {
     "name": "stdout",
     "output_type": "stream",
     "text": [
      "100     Alnima\n",
      "200    Andhito\n",
      "300    Shafira\n",
      "400     Laksmi\n",
      "500      Aswin\n",
      "dtype: object\n"
     ]
    }
   ],
   "source": [
    "print(names_with_data)"
   ]
  },
  {
   "cell_type": "code",
   "execution_count": 15,
   "id": "292060dc-99f6-4b81-83d3-19c09de62158",
   "metadata": {},
   "outputs": [
    {
     "data": {
      "text/plain": [
       "array(['Alnima', 'Andhito', 'Shafira', 'Laksmi', 'Aswin'], dtype=object)"
      ]
     },
     "execution_count": 15,
     "metadata": {},
     "output_type": "execute_result"
    }
   ],
   "source": [
    "names_with_data.values"
   ]
  },
  {
   "cell_type": "code",
   "execution_count": 16,
   "id": "3e969ec6-e170-4c6b-aaaa-122832b5deb5",
   "metadata": {},
   "outputs": [
    {
     "data": {
      "text/plain": [
       "Index([100, 200, 300, 400, 500], dtype='int64')"
      ]
     },
     "execution_count": 16,
     "metadata": {},
     "output_type": "execute_result"
    }
   ],
   "source": [
    "names_with_data.index"
   ]
  },
  {
   "cell_type": "code",
   "execution_count": 24,
   "id": "b914dc4e-664d-48e1-b9e0-a991308b7958",
   "metadata": {},
   "outputs": [
    {
     "data": {
      "text/plain": [
       "'Alnima'"
      ]
     },
     "execution_count": 24,
     "metadata": {},
     "output_type": "execute_result"
    }
   ],
   "source": [
    "# Index Explicit\n",
    "names_with_data[100]"
   ]
  },
  {
   "cell_type": "code",
   "execution_count": 25,
   "id": "4db37ed5-f269-4c89-8f8b-4dd79703b0d4",
   "metadata": {},
   "outputs": [
    {
     "ename": "KeyError",
     "evalue": "2",
     "output_type": "error",
     "traceback": [
      "\u001b[1;31m---------------------------------------------------------------------------\u001b[0m",
      "\u001b[1;31mKeyError\u001b[0m                                  Traceback (most recent call last)",
      "File \u001b[1;32m~\\anaconda3\\Lib\\site-packages\\pandas\\core\\indexes\\base.py:3791\u001b[0m, in \u001b[0;36mIndex.get_loc\u001b[1;34m(self, key)\u001b[0m\n\u001b[0;32m   3790\u001b[0m \u001b[38;5;28;01mtry\u001b[39;00m:\n\u001b[1;32m-> 3791\u001b[0m     \u001b[38;5;28;01mreturn\u001b[39;00m \u001b[38;5;28mself\u001b[39m\u001b[38;5;241m.\u001b[39m_engine\u001b[38;5;241m.\u001b[39mget_loc(casted_key)\n\u001b[0;32m   3792\u001b[0m \u001b[38;5;28;01mexcept\u001b[39;00m \u001b[38;5;167;01mKeyError\u001b[39;00m \u001b[38;5;28;01mas\u001b[39;00m err:\n",
      "File \u001b[1;32mindex.pyx:152\u001b[0m, in \u001b[0;36mpandas._libs.index.IndexEngine.get_loc\u001b[1;34m()\u001b[0m\n",
      "File \u001b[1;32mindex.pyx:181\u001b[0m, in \u001b[0;36mpandas._libs.index.IndexEngine.get_loc\u001b[1;34m()\u001b[0m\n",
      "File \u001b[1;32mpandas\\_libs\\hashtable_class_helper.pxi:2606\u001b[0m, in \u001b[0;36mpandas._libs.hashtable.Int64HashTable.get_item\u001b[1;34m()\u001b[0m\n",
      "File \u001b[1;32mpandas\\_libs\\hashtable_class_helper.pxi:2630\u001b[0m, in \u001b[0;36mpandas._libs.hashtable.Int64HashTable.get_item\u001b[1;34m()\u001b[0m\n",
      "\u001b[1;31mKeyError\u001b[0m: 2",
      "\nThe above exception was the direct cause of the following exception:\n",
      "\u001b[1;31mKeyError\u001b[0m                                  Traceback (most recent call last)",
      "Cell \u001b[1;32mIn[25], line 2\u001b[0m\n\u001b[0;32m      1\u001b[0m \u001b[38;5;66;03m# Index Implicit\u001b[39;00m\n\u001b[1;32m----> 2\u001b[0m names_with_data[\u001b[38;5;241m2\u001b[39m]\n",
      "File \u001b[1;32m~\\anaconda3\\Lib\\site-packages\\pandas\\core\\series.py:1040\u001b[0m, in \u001b[0;36mSeries.__getitem__\u001b[1;34m(self, key)\u001b[0m\n\u001b[0;32m   1037\u001b[0m     \u001b[38;5;28;01mreturn\u001b[39;00m \u001b[38;5;28mself\u001b[39m\u001b[38;5;241m.\u001b[39m_values[key]\n\u001b[0;32m   1039\u001b[0m \u001b[38;5;28;01melif\u001b[39;00m key_is_scalar:\n\u001b[1;32m-> 1040\u001b[0m     \u001b[38;5;28;01mreturn\u001b[39;00m \u001b[38;5;28mself\u001b[39m\u001b[38;5;241m.\u001b[39m_get_value(key)\n\u001b[0;32m   1042\u001b[0m \u001b[38;5;66;03m# Convert generator to list before going through hashable part\u001b[39;00m\n\u001b[0;32m   1043\u001b[0m \u001b[38;5;66;03m# (We will iterate through the generator there to check for slices)\u001b[39;00m\n\u001b[0;32m   1044\u001b[0m \u001b[38;5;28;01mif\u001b[39;00m is_iterator(key):\n",
      "File \u001b[1;32m~\\anaconda3\\Lib\\site-packages\\pandas\\core\\series.py:1156\u001b[0m, in \u001b[0;36mSeries._get_value\u001b[1;34m(self, label, takeable)\u001b[0m\n\u001b[0;32m   1153\u001b[0m     \u001b[38;5;28;01mreturn\u001b[39;00m \u001b[38;5;28mself\u001b[39m\u001b[38;5;241m.\u001b[39m_values[label]\n\u001b[0;32m   1155\u001b[0m \u001b[38;5;66;03m# Similar to Index.get_value, but we do not fall back to positional\u001b[39;00m\n\u001b[1;32m-> 1156\u001b[0m loc \u001b[38;5;241m=\u001b[39m \u001b[38;5;28mself\u001b[39m\u001b[38;5;241m.\u001b[39mindex\u001b[38;5;241m.\u001b[39mget_loc(label)\n\u001b[0;32m   1158\u001b[0m \u001b[38;5;28;01mif\u001b[39;00m is_integer(loc):\n\u001b[0;32m   1159\u001b[0m     \u001b[38;5;28;01mreturn\u001b[39;00m \u001b[38;5;28mself\u001b[39m\u001b[38;5;241m.\u001b[39m_values[loc]\n",
      "File \u001b[1;32m~\\anaconda3\\Lib\\site-packages\\pandas\\core\\indexes\\base.py:3798\u001b[0m, in \u001b[0;36mIndex.get_loc\u001b[1;34m(self, key)\u001b[0m\n\u001b[0;32m   3793\u001b[0m     \u001b[38;5;28;01mif\u001b[39;00m \u001b[38;5;28misinstance\u001b[39m(casted_key, \u001b[38;5;28mslice\u001b[39m) \u001b[38;5;129;01mor\u001b[39;00m (\n\u001b[0;32m   3794\u001b[0m         \u001b[38;5;28misinstance\u001b[39m(casted_key, abc\u001b[38;5;241m.\u001b[39mIterable)\n\u001b[0;32m   3795\u001b[0m         \u001b[38;5;129;01mand\u001b[39;00m \u001b[38;5;28many\u001b[39m(\u001b[38;5;28misinstance\u001b[39m(x, \u001b[38;5;28mslice\u001b[39m) \u001b[38;5;28;01mfor\u001b[39;00m x \u001b[38;5;129;01min\u001b[39;00m casted_key)\n\u001b[0;32m   3796\u001b[0m     ):\n\u001b[0;32m   3797\u001b[0m         \u001b[38;5;28;01mraise\u001b[39;00m InvalidIndexError(key)\n\u001b[1;32m-> 3798\u001b[0m     \u001b[38;5;28;01mraise\u001b[39;00m \u001b[38;5;167;01mKeyError\u001b[39;00m(key) \u001b[38;5;28;01mfrom\u001b[39;00m \u001b[38;5;21;01merr\u001b[39;00m\n\u001b[0;32m   3799\u001b[0m \u001b[38;5;28;01mexcept\u001b[39;00m \u001b[38;5;167;01mTypeError\u001b[39;00m:\n\u001b[0;32m   3800\u001b[0m     \u001b[38;5;66;03m# If we have a listlike key, _check_indexing_error will raise\u001b[39;00m\n\u001b[0;32m   3801\u001b[0m     \u001b[38;5;66;03m#  InvalidIndexError. Otherwise we fall through and re-raise\u001b[39;00m\n\u001b[0;32m   3802\u001b[0m     \u001b[38;5;66;03m#  the TypeError.\u001b[39;00m\n\u001b[0;32m   3803\u001b[0m     \u001b[38;5;28mself\u001b[39m\u001b[38;5;241m.\u001b[39m_check_indexing_error(key)\n",
      "\u001b[1;31mKeyError\u001b[0m: 2"
     ]
    }
   ],
   "source": [
    "# Index Implicit\n",
    "names_with_data[2]"
   ]
  },
  {
   "cell_type": "markdown",
   "id": "b38168d0-5721-4c5f-bb1d-f57aeee760cd",
   "metadata": {},
   "source": [
    "##### Data Slicing in Pandas"
   ]
  },
  {
   "cell_type": "code",
   "execution_count": 26,
   "id": "261d7597-275f-4bb4-9521-625aa5b0d96c",
   "metadata": {},
   "outputs": [],
   "source": [
    "data = [10, 20, 30, 40, 50]\n",
    "index_labels = ['A', 'B', 'C', 'D', 'E']\n",
    "series = pd.Series(data, index=index_labels)"
   ]
  },
  {
   "cell_type": "code",
   "execution_count": 27,
   "id": "21da0737-299c-48c3-9eaa-43b996f0aedf",
   "metadata": {},
   "outputs": [
    {
     "name": "stdout",
     "output_type": "stream",
     "text": [
      "A    10\n",
      "B    20\n",
      "C    30\n",
      "D    40\n",
      "E    50\n",
      "dtype: int64\n"
     ]
    }
   ],
   "source": [
    "print(series)"
   ]
  },
  {
   "cell_type": "code",
   "execution_count": 28,
   "id": "aaf56200-26bc-4fd7-bb95-99c5115d88b7",
   "metadata": {},
   "outputs": [
    {
     "name": "stdout",
     "output_type": "stream",
     "text": [
      "Slice using explicit index labels:\n",
      "B    20\n",
      "C    30\n",
      "D    40\n",
      "dtype: int64\n"
     ]
    }
   ],
   "source": [
    "# Slicing using explicit index labels\n",
    "slice1 = series['B':'D']  # Slicing from index label 'B' to 'D' (inclusive)\n",
    "print(\"Slice using explicit index labels:\")\n",
    "print(slice1)"
   ]
  },
  {
   "cell_type": "code",
   "execution_count": 31,
   "id": "490d6baa-7f25-4729-8061-019003157c92",
   "metadata": {},
   "outputs": [
    {
     "name": "stdout",
     "output_type": "stream",
     "text": [
      "Slice using implicit integer index:\n",
      "A    10\n",
      "dtype: int64\n"
     ]
    }
   ],
   "source": [
    "# Slicing using implicit integer index\n",
    "slice2 = series[0:1]  # Slicing from index position 0 to 1 (exclusive)\n",
    "print(\"Slice using implicit integer index:\")\n",
    "print(slice2)"
   ]
  },
  {
   "cell_type": "markdown",
   "id": "9ea9d78d-ada6-4c50-ba5a-a498c390d486",
   "metadata": {},
   "source": [
    "In this example:\n",
    "\n",
    "- We create a Pandas Series series with custom index labels 'A', 'B', 'C', 'D', and 'E' and their corresponding values [10, 20, 30, 40, 50].\n",
    "- We demonstrate two ways of slicing the Series:\n",
    "-- Slicing using explicit index labels ('B':'D'), which includes the elements from index label 'B' to 'D' (inclusive).\n",
    "-- Slicing using implicit integer index (0:1), which includes the elements from index position 1 (exclusive).\n",
    "- We print the slices to observe the sliced portions of the Series. Both slices produce the same output because the index labels and integer positions are aligned in this case. However, slicing with explicit index labels provides more clarity and flexibility, especially when dealing with non-sequential or non-integer index labels."
   ]
  },
  {
   "cell_type": "markdown",
   "id": "0c1c5fbf-a51f-422b-879c-ee4229832d64",
   "metadata": {},
   "source": [
    "### Loc & Iloc"
   ]
  },
  {
   "cell_type": "markdown",
   "id": "fb3dd116-5ad4-4ddb-91b7-51994daeb940",
   "metadata": {},
   "source": [
    "In Pandas, both loc and iloc are used for indexing and selecting data from a DataFrame or a Series:\n",
    "\n",
    "loc:\n",
    "- loc is primarily label-based indexing, meaning that you use the actual index labels to select data.\n",
    "- It accepts label-based inputs for both rows and columns.\n",
    "- You can use it to select specific rows and columns by their labels.\n",
    "- The syntax for loc is df.loc[row_labels, column_labels].\n",
    "    \n",
    "iloc:\n",
    "- iloc is primarily integer-based indexing, meaning that you use integer positions to select data.\n",
    "- It accepts integer-based inputs for both rows and columns.\n",
    "- You can use it to select specific rows and columns by their integer positions.\n",
    "- The syntax for iloc is df.iloc[row_positions, column_positions]."
   ]
  },
  {
   "cell_type": "code",
   "execution_count": 34,
   "id": "1f80293d-823a-4644-bdb3-c5065a15ce2d",
   "metadata": {},
   "outputs": [],
   "source": [
    "index_labels = ['A', 'B', 'C', 'D', 'E']\n",
    "data = [1, 2, 3, 4, 5]\n",
    "series = pd.Series(index_labels, index=data)"
   ]
  },
  {
   "cell_type": "code",
   "execution_count": 35,
   "id": "db1945d8-7bd1-4fec-9e5e-da16a60da90f",
   "metadata": {},
   "outputs": [
    {
     "name": "stdout",
     "output_type": "stream",
     "text": [
      "1    A\n",
      "2    B\n",
      "3    C\n",
      "4    D\n",
      "5    E\n",
      "dtype: object\n"
     ]
    }
   ],
   "source": [
    "print(series)"
   ]
  },
  {
   "cell_type": "code",
   "execution_count": 36,
   "id": "f9dc8fb5-abb2-4240-9898-cf5a246b80fd",
   "metadata": {},
   "outputs": [
    {
     "data": {
      "text/plain": [
       "'B'"
      ]
     },
     "execution_count": 36,
     "metadata": {},
     "output_type": "execute_result"
    }
   ],
   "source": [
    "series.loc[2]"
   ]
  },
  {
   "cell_type": "code",
   "execution_count": 37,
   "id": "a4990992-6059-4736-a3b5-d905d4189ad5",
   "metadata": {},
   "outputs": [
    {
     "data": {
      "text/plain": [
       "'C'"
      ]
     },
     "execution_count": 37,
     "metadata": {},
     "output_type": "execute_result"
    }
   ],
   "source": [
    "series.iloc[2]"
   ]
  },
  {
   "cell_type": "markdown",
   "id": "2d711ae1-9cfc-41e8-ae16-eae670975304",
   "metadata": {},
   "source": [
    "- loc for explicit indexing.\n",
    "- iloc for implicit indexing."
   ]
  },
  {
   "cell_type": "markdown",
   "id": "f84e2cce-89dc-4352-abe8-b1c845e59925",
   "metadata": {},
   "source": [
    "##### Example Series dictionary with loc & iloc"
   ]
  },
  {
   "cell_type": "code",
   "execution_count": 38,
   "id": "518ba74c-d08b-4b85-acf5-9863f9070126",
   "metadata": {},
   "outputs": [],
   "source": [
    "# Dictionary representing number of purchases for each novel\n",
    "purchases_dict = {'Harry Potter': 100,\n",
    "                  'To Kill a Mockingbird': 75,\n",
    "                  'The Great Gatsby': 50,\n",
    "                  'The Hunger Games': 120,\n",
    "                  '1984': 90}\n",
    "purchases_series = pd.Series(purchases_dict)"
   ]
  },
  {
   "cell_type": "code",
   "execution_count": 39,
   "id": "9a1d98ab-7022-4613-beec-42458757a5ea",
   "metadata": {},
   "outputs": [
    {
     "name": "stdout",
     "output_type": "stream",
     "text": [
      "Harry Potter             100\n",
      "To Kill a Mockingbird     75\n",
      "The Great Gatsby          50\n",
      "The Hunger Games         120\n",
      "1984                      90\n",
      "dtype: int64\n"
     ]
    }
   ],
   "source": [
    "print(purchases_series)"
   ]
  },
  {
   "cell_type": "code",
   "execution_count": 43,
   "id": "785e7f79-a7d6-420c-8028-7eeea4c65c98",
   "metadata": {},
   "outputs": [
    {
     "data": {
      "text/plain": [
       "120"
      ]
     },
     "execution_count": 43,
     "metadata": {},
     "output_type": "execute_result"
    }
   ],
   "source": [
    "purchases_series.iloc[3]"
   ]
  },
  {
   "cell_type": "code",
   "execution_count": 46,
   "id": "2788ff29-050c-4c16-a52c-466df736a64e",
   "metadata": {},
   "outputs": [
    {
     "data": {
      "text/plain": [
       "120"
      ]
     },
     "execution_count": 46,
     "metadata": {},
     "output_type": "execute_result"
    }
   ],
   "source": [
    "purchases_series.loc['The Hunger Games']"
   ]
  },
  {
   "cell_type": "markdown",
   "id": "dfe7b153-b5f2-4826-b886-4a2bff88e771",
   "metadata": {},
   "source": [
    "## Object Frame\n",
    "\n",
    "\r\n",
    "It seems like you're referring to a DataFrame object in pandas. A DataFrame is a two-dimensional labeled data structure with columns that can hold different data types, similar to a spreadsheet or SQL table. It is one of the primary pandas data structures used for data manipulation and analysis."
   ]
  },
  {
   "cell_type": "markdown",
   "id": "d0c67538-5037-43bd-ae68-d7ed1f468696",
   "metadata": {},
   "source": [
    "#### Example"
   ]
  },
  {
   "cell_type": "code",
   "execution_count": 70,
   "id": "f794cc9f-54af-4f1c-95f2-65881554eddb",
   "metadata": {},
   "outputs": [],
   "source": [
    "# Dictionary representing number of purchases for each novel\n",
    "purchases_dict = {'Harry Potter': 100,\n",
    "                  'To Kill a Mockingbird': 75,\n",
    "                  'The Great Gatsby': 50,\n",
    "                  'The Hunger Games': 120,\n",
    "                  '1984': 90}\n",
    "purchases = pd.Series(purchases_dict)"
   ]
  },
  {
   "cell_type": "code",
   "execution_count": 71,
   "id": "dfad8b41-e5be-43ef-9831-de14350cc280",
   "metadata": {},
   "outputs": [
    {
     "name": "stdout",
     "output_type": "stream",
     "text": [
      "Harry Potter             100\n",
      "To Kill a Mockingbird     75\n",
      "The Great Gatsby          50\n",
      "The Hunger Games         120\n",
      "1984                      90\n",
      "dtype: int64\n"
     ]
    }
   ],
   "source": [
    "print(purchases)"
   ]
  },
  {
   "cell_type": "code",
   "execution_count": 68,
   "id": "6487aefa-ee1e-449b-95cd-8f2182f0a506",
   "metadata": {},
   "outputs": [],
   "source": [
    "# Dictionary representing supply for each novel\n",
    "supply_dict = {'Harry Potter': 150,\n",
    "                  'To Kill a Mockingbird': 175,\n",
    "                  'The Great Gatsby': 155,\n",
    "                  'The Hunger Games': 125,\n",
    "                  '1984': 190}\n",
    "supply = pd.Series(supply_dict)"
   ]
  },
  {
   "cell_type": "code",
   "execution_count": 69,
   "id": "c19c8591-4766-4bfc-ab76-febebe2aee44",
   "metadata": {},
   "outputs": [
    {
     "name": "stdout",
     "output_type": "stream",
     "text": [
      "Harry Potter             150\n",
      "To Kill a Mockingbird    175\n",
      "The Great Gatsby         155\n",
      "The Hunger Games         125\n",
      "1984                     190\n",
      "dtype: int64\n"
     ]
    }
   ],
   "source": [
    "print(supply)"
   ]
  },
  {
   "cell_type": "code",
   "execution_count": 76,
   "id": "d6cfbdf5-3f5e-4517-9436-6f4350d02cd3",
   "metadata": {},
   "outputs": [],
   "source": [
    "Novel = pd.DataFrame({'supply':supply, 'purchases':purchases})"
   ]
  },
  {
   "cell_type": "code",
   "execution_count": 77,
   "id": "41e4830f-c48b-4bd6-b27e-8a2b21c2fe1d",
   "metadata": {},
   "outputs": [
    {
     "data": {
      "text/html": [
       "<div>\n",
       "<style scoped>\n",
       "    .dataframe tbody tr th:only-of-type {\n",
       "        vertical-align: middle;\n",
       "    }\n",
       "\n",
       "    .dataframe tbody tr th {\n",
       "        vertical-align: top;\n",
       "    }\n",
       "\n",
       "    .dataframe thead th {\n",
       "        text-align: right;\n",
       "    }\n",
       "</style>\n",
       "<table border=\"1\" class=\"dataframe\">\n",
       "  <thead>\n",
       "    <tr style=\"text-align: right;\">\n",
       "      <th></th>\n",
       "      <th>supply</th>\n",
       "      <th>purchases</th>\n",
       "    </tr>\n",
       "  </thead>\n",
       "  <tbody>\n",
       "    <tr>\n",
       "      <th>Harry Potter</th>\n",
       "      <td>150</td>\n",
       "      <td>100</td>\n",
       "    </tr>\n",
       "    <tr>\n",
       "      <th>To Kill a Mockingbird</th>\n",
       "      <td>175</td>\n",
       "      <td>75</td>\n",
       "    </tr>\n",
       "    <tr>\n",
       "      <th>The Great Gatsby</th>\n",
       "      <td>155</td>\n",
       "      <td>50</td>\n",
       "    </tr>\n",
       "    <tr>\n",
       "      <th>The Hunger Games</th>\n",
       "      <td>125</td>\n",
       "      <td>120</td>\n",
       "    </tr>\n",
       "    <tr>\n",
       "      <th>1984</th>\n",
       "      <td>190</td>\n",
       "      <td>90</td>\n",
       "    </tr>\n",
       "  </tbody>\n",
       "</table>\n",
       "</div>"
      ],
      "text/plain": [
       "                       supply  purchases\n",
       "Harry Potter              150        100\n",
       "To Kill a Mockingbird     175         75\n",
       "The Great Gatsby          155         50\n",
       "The Hunger Games          125        120\n",
       "1984                      190         90"
      ]
     },
     "execution_count": 77,
     "metadata": {},
     "output_type": "execute_result"
    }
   ],
   "source": [
    "Novel"
   ]
  },
  {
   "cell_type": "code",
   "execution_count": 83,
   "id": "cafe6d16-0f6c-4a09-b6fb-fb80c8845257",
   "metadata": {},
   "outputs": [
    {
     "data": {
      "text/plain": [
       "Harry Potter             150\n",
       "To Kill a Mockingbird    175\n",
       "The Great Gatsby         155\n",
       "The Hunger Games         125\n",
       "1984                     190\n",
       "Name: supply, dtype: int64"
      ]
     },
     "execution_count": 83,
     "metadata": {},
     "output_type": "execute_result"
    }
   ],
   "source": [
    "Novel['supply']"
   ]
  },
  {
   "cell_type": "code",
   "execution_count": 89,
   "id": "a142d253-a982-4987-9138-f5983a0c86ec",
   "metadata": {},
   "outputs": [
    {
     "data": {
      "text/plain": [
       "155"
      ]
     },
     "execution_count": 89,
     "metadata": {},
     "output_type": "execute_result"
    }
   ],
   "source": [
    "Novel['supply']['The Great Gatsby']"
   ]
  },
  {
   "cell_type": "markdown",
   "id": "ce537ee3-59e9-443a-b70b-ef88057c401b",
   "metadata": {},
   "source": [
    "### Data Frame from File CSV"
   ]
  },
  {
   "cell_type": "markdown",
   "id": "090a0835-5307-401b-988e-c74c35b7066d",
   "metadata": {},
   "source": [
    "#### Example"
   ]
  },
  {
   "cell_type": "markdown",
   "id": "0e5477ce-e3ce-4fa9-bdc9-a9bc4b226237",
   "metadata": {},
   "source": [
    "df = pd.read_csv('Titanic.csv')"
   ]
  },
  {
   "cell_type": "code",
   "execution_count": 79,
   "id": "b14a8443-0c37-49c8-94bd-feee70dd81e0",
   "metadata": {},
   "outputs": [
    {
     "data": {
      "text/html": [
       "<div>\n",
       "<style scoped>\n",
       "    .dataframe tbody tr th:only-of-type {\n",
       "        vertical-align: middle;\n",
       "    }\n",
       "\n",
       "    .dataframe tbody tr th {\n",
       "        vertical-align: top;\n",
       "    }\n",
       "\n",
       "    .dataframe thead th {\n",
       "        text-align: right;\n",
       "    }\n",
       "</style>\n",
       "<table border=\"1\" class=\"dataframe\">\n",
       "  <thead>\n",
       "    <tr style=\"text-align: right;\">\n",
       "      <th></th>\n",
       "      <th>PassengerId</th>\n",
       "      <th>Survived</th>\n",
       "      <th>Pclass</th>\n",
       "      <th>Name</th>\n",
       "      <th>Sex</th>\n",
       "      <th>Age</th>\n",
       "      <th>SibSp</th>\n",
       "      <th>Parch</th>\n",
       "      <th>Ticket</th>\n",
       "      <th>Fare</th>\n",
       "      <th>Cabin</th>\n",
       "      <th>Embarked</th>\n",
       "    </tr>\n",
       "  </thead>\n",
       "  <tbody>\n",
       "    <tr>\n",
       "      <th>0</th>\n",
       "      <td>1</td>\n",
       "      <td>0</td>\n",
       "      <td>3</td>\n",
       "      <td>Braund, Mr. Owen Harris</td>\n",
       "      <td>male</td>\n",
       "      <td>22.0</td>\n",
       "      <td>1</td>\n",
       "      <td>0</td>\n",
       "      <td>A/5 21171</td>\n",
       "      <td>7.2500</td>\n",
       "      <td>NaN</td>\n",
       "      <td>S</td>\n",
       "    </tr>\n",
       "    <tr>\n",
       "      <th>1</th>\n",
       "      <td>2</td>\n",
       "      <td>1</td>\n",
       "      <td>1</td>\n",
       "      <td>Cumings, Mrs. John Bradley (Florence Briggs Th...</td>\n",
       "      <td>female</td>\n",
       "      <td>38.0</td>\n",
       "      <td>1</td>\n",
       "      <td>0</td>\n",
       "      <td>PC 17599</td>\n",
       "      <td>71.2833</td>\n",
       "      <td>C85</td>\n",
       "      <td>C</td>\n",
       "    </tr>\n",
       "    <tr>\n",
       "      <th>2</th>\n",
       "      <td>3</td>\n",
       "      <td>1</td>\n",
       "      <td>3</td>\n",
       "      <td>Heikkinen, Miss. Laina</td>\n",
       "      <td>female</td>\n",
       "      <td>26.0</td>\n",
       "      <td>0</td>\n",
       "      <td>0</td>\n",
       "      <td>STON/O2. 3101282</td>\n",
       "      <td>7.9250</td>\n",
       "      <td>NaN</td>\n",
       "      <td>S</td>\n",
       "    </tr>\n",
       "    <tr>\n",
       "      <th>3</th>\n",
       "      <td>4</td>\n",
       "      <td>1</td>\n",
       "      <td>1</td>\n",
       "      <td>Futrelle, Mrs. Jacques Heath (Lily May Peel)</td>\n",
       "      <td>female</td>\n",
       "      <td>35.0</td>\n",
       "      <td>1</td>\n",
       "      <td>0</td>\n",
       "      <td>113803</td>\n",
       "      <td>53.1000</td>\n",
       "      <td>C123</td>\n",
       "      <td>S</td>\n",
       "    </tr>\n",
       "    <tr>\n",
       "      <th>4</th>\n",
       "      <td>5</td>\n",
       "      <td>0</td>\n",
       "      <td>3</td>\n",
       "      <td>Allen, Mr. William Henry</td>\n",
       "      <td>male</td>\n",
       "      <td>35.0</td>\n",
       "      <td>0</td>\n",
       "      <td>0</td>\n",
       "      <td>373450</td>\n",
       "      <td>8.0500</td>\n",
       "      <td>NaN</td>\n",
       "      <td>S</td>\n",
       "    </tr>\n",
       "  </tbody>\n",
       "</table>\n",
       "</div>"
      ],
      "text/plain": [
       "   PassengerId  Survived  Pclass  \\\n",
       "0            1         0       3   \n",
       "1            2         1       1   \n",
       "2            3         1       3   \n",
       "3            4         1       1   \n",
       "4            5         0       3   \n",
       "\n",
       "                                                Name     Sex   Age  SibSp  \\\n",
       "0                            Braund, Mr. Owen Harris    male  22.0      1   \n",
       "1  Cumings, Mrs. John Bradley (Florence Briggs Th...  female  38.0      1   \n",
       "2                             Heikkinen, Miss. Laina  female  26.0      0   \n",
       "3       Futrelle, Mrs. Jacques Heath (Lily May Peel)  female  35.0      1   \n",
       "4                           Allen, Mr. William Henry    male  35.0      0   \n",
       "\n",
       "   Parch            Ticket     Fare Cabin Embarked  \n",
       "0      0         A/5 21171   7.2500   NaN        S  \n",
       "1      0          PC 17599  71.2833   C85        C  \n",
       "2      0  STON/O2. 3101282   7.9250   NaN        S  \n",
       "3      0            113803  53.1000  C123        S  \n",
       "4      0            373450   8.0500   NaN        S  "
      ]
     },
     "execution_count": 79,
     "metadata": {},
     "output_type": "execute_result"
    }
   ],
   "source": [
    "df.head()"
   ]
  },
  {
   "cell_type": "code",
   "execution_count": 116,
   "id": "b659ec7a-32cb-469a-ba90-0034c61dd916",
   "metadata": {},
   "outputs": [
    {
     "name": "stdout",
     "output_type": "stream",
     "text": [
      "<class 'pandas.core.frame.DataFrame'>\n",
      "RangeIndex: 177 entries, 0 to 176\n",
      "Data columns (total 7 columns):\n",
      " #   Column     Non-Null Count  Dtype  \n",
      "---  ------     --------------  -----  \n",
      " 0   Name       177 non-null    object \n",
      " 1   Sales      177 non-null    float64\n",
      " 2   Series     141 non-null    object \n",
      " 3   Release    177 non-null    object \n",
      " 4   Genre      177 non-null    object \n",
      " 5   Developer  177 non-null    object \n",
      " 6   Publisher  177 non-null    object \n",
      "dtypes: float64(1), object(6)\n",
      "memory usage: 9.8+ KB\n"
     ]
    }
   ],
   "source": [
    "# view info data\n",
    "\n",
    "df.info()"
   ]
  },
  {
   "cell_type": "code",
   "execution_count": 117,
   "id": "beffc541-9709-43e7-b38f-2be71039644b",
   "metadata": {},
   "outputs": [
    {
     "data": {
      "text/plain": [
       "Name         177\n",
       "Sales        177\n",
       "Series       141\n",
       "Release      177\n",
       "Genre        177\n",
       "Developer    177\n",
       "Publisher    177\n",
       "dtype: int64"
      ]
     },
     "execution_count": 117,
     "metadata": {},
     "output_type": "execute_result"
    }
   ],
   "source": [
    "# View the Non NULL Count of Data\n",
    "\n",
    "df.notnull().sum()"
   ]
  },
  {
   "cell_type": "code",
   "execution_count": 118,
   "id": "d3a0b7de-4fc5-4aa0-89be-6c09ab118292",
   "metadata": {},
   "outputs": [
    {
     "data": {
      "text/plain": [
       "Name          0\n",
       "Sales         0\n",
       "Series       36\n",
       "Release       0\n",
       "Genre         0\n",
       "Developer     0\n",
       "Publisher     0\n",
       "dtype: int64"
      ]
     },
     "execution_count": 118,
     "metadata": {},
     "output_type": "execute_result"
    }
   ],
   "source": [
    "# view the amount of NaN from the data\n",
    "\n",
    "df.isnull().sum()"
   ]
  },
  {
   "cell_type": "code",
   "execution_count": 127,
   "id": "7a83cc60-e58d-4e3c-8b31-d3098a444994",
   "metadata": {},
   "outputs": [
    {
     "data": {
      "text/html": [
       "<div>\n",
       "<style scoped>\n",
       "    .dataframe tbody tr th:only-of-type {\n",
       "        vertical-align: middle;\n",
       "    }\n",
       "\n",
       "    .dataframe tbody tr th {\n",
       "        vertical-align: top;\n",
       "    }\n",
       "\n",
       "    .dataframe thead th {\n",
       "        text-align: right;\n",
       "    }\n",
       "</style>\n",
       "<table border=\"1\" class=\"dataframe\">\n",
       "  <thead>\n",
       "    <tr style=\"text-align: right;\">\n",
       "      <th></th>\n",
       "      <th>Name</th>\n",
       "      <th>Sales</th>\n",
       "      <th>Series</th>\n",
       "      <th>Release</th>\n",
       "      <th>Genre</th>\n",
       "      <th>Developer</th>\n",
       "      <th>Publisher</th>\n",
       "    </tr>\n",
       "  </thead>\n",
       "  <tbody>\n",
       "    <tr>\n",
       "      <th>173</th>\n",
       "      <td>Wing Commander 3: Heart of the Tiger</td>\n",
       "      <td>1.0</td>\n",
       "      <td>Wing Commander</td>\n",
       "      <td>12/1/1994</td>\n",
       "      <td>Space combat simulation</td>\n",
       "      <td>Origin Systems</td>\n",
       "      <td>Electronic Arts</td>\n",
       "    </tr>\n",
       "    <tr>\n",
       "      <th>174</th>\n",
       "      <td>Zoo Tycoon</td>\n",
       "      <td>1.0</td>\n",
       "      <td>Zoo Tycoon</td>\n",
       "      <td>10/1/2001</td>\n",
       "      <td>Business simulation</td>\n",
       "      <td>Microsoft</td>\n",
       "      <td>Blue Fang Games</td>\n",
       "    </tr>\n",
       "    <tr>\n",
       "      <th>175</th>\n",
       "      <td>StarCraft II: Heart of the Swarm</td>\n",
       "      <td>1.0</td>\n",
       "      <td>StarCraft</td>\n",
       "      <td>3/1/2013</td>\n",
       "      <td>Real-time strategy</td>\n",
       "      <td>Blizzard Entertainment</td>\n",
       "      <td>Blizzard Entertainment</td>\n",
       "    </tr>\n",
       "    <tr>\n",
       "      <th>176</th>\n",
       "      <td>StarCraft II: Legacy of the Void</td>\n",
       "      <td>1.0</td>\n",
       "      <td>StarCraft</td>\n",
       "      <td>11/1/2015</td>\n",
       "      <td>Real-time strategy</td>\n",
       "      <td>Blizzard Entertainment</td>\n",
       "      <td>Blizzard Entertainment</td>\n",
       "    </tr>\n",
       "  </tbody>\n",
       "</table>\n",
       "</div>"
      ],
      "text/plain": [
       "                                     Name  Sales          Series    Release  \\\n",
       "173  Wing Commander 3: Heart of the Tiger    1.0  Wing Commander  12/1/1994   \n",
       "174                            Zoo Tycoon    1.0      Zoo Tycoon  10/1/2001   \n",
       "175      StarCraft II: Heart of the Swarm    1.0       StarCraft   3/1/2013   \n",
       "176      StarCraft II: Legacy of the Void    1.0       StarCraft  11/1/2015   \n",
       "\n",
       "                       Genre               Developer               Publisher  \n",
       "173  Space combat simulation          Origin Systems         Electronic Arts  \n",
       "174      Business simulation               Microsoft         Blue Fang Games  \n",
       "175       Real-time strategy  Blizzard Entertainment  Blizzard Entertainment  \n",
       "176       Real-time strategy  Blizzard Entertainment  Blizzard Entertainment  "
      ]
     },
     "execution_count": 127,
     "metadata": {},
     "output_type": "execute_result"
    }
   ],
   "source": [
    "# view list the last from data\n",
    "\n",
    "df.tail(4)"
   ]
  },
  {
   "cell_type": "code",
   "execution_count": 125,
   "id": "c20c4eb8-0718-4585-b9a5-898497ed259a",
   "metadata": {},
   "outputs": [
    {
     "data": {
      "text/plain": [
       "(177, 7)"
      ]
     },
     "execution_count": 125,
     "metadata": {},
     "output_type": "execute_result"
    }
   ],
   "source": [
    "# View row count and column count\n",
    "\n",
    "df.shape"
   ]
  },
  {
   "cell_type": "code",
   "execution_count": 123,
   "id": "84c9def6-4aa9-4678-9c0d-22598a636602",
   "metadata": {},
   "outputs": [
    {
     "data": {
      "text/plain": [
       "Index(['Name', 'Sales', 'Series', 'Release', 'Genre', 'Developer',\n",
       "       'Publisher'],\n",
       "      dtype='object')"
      ]
     },
     "execution_count": 123,
     "metadata": {},
     "output_type": "execute_result"
    }
   ],
   "source": [
    "# view columns\n",
    "\n",
    "df.columns"
   ]
  },
  {
   "cell_type": "code",
   "execution_count": 124,
   "id": "46212fb5-f710-48c1-9ebe-c111909916e6",
   "metadata": {},
   "outputs": [
    {
     "data": {
      "text/plain": [
       "RangeIndex(start=0, stop=177, step=1)"
      ]
     },
     "execution_count": 124,
     "metadata": {},
     "output_type": "execute_result"
    }
   ],
   "source": [
    "# view index\n",
    "\n",
    "df.index"
   ]
  },
  {
   "cell_type": "markdown",
   "id": "99710acd-9df9-4ba7-83e0-8ba805c6bf4b",
   "metadata": {},
   "source": [
    "#### More Example"
   ]
  },
  {
   "cell_type": "code",
   "execution_count": 141,
   "id": "47519d41-292c-49d3-bcae-fcec0fb3b47f",
   "metadata": {},
   "outputs": [],
   "source": [
    "df = pd.read_csv('Games Sales.csv')"
   ]
  },
  {
   "cell_type": "code",
   "execution_count": 142,
   "id": "96c8a8c8-04dd-4824-a7ee-138eeb8490f1",
   "metadata": {},
   "outputs": [
    {
     "data": {
      "text/html": [
       "<div>\n",
       "<style scoped>\n",
       "    .dataframe tbody tr th:only-of-type {\n",
       "        vertical-align: middle;\n",
       "    }\n",
       "\n",
       "    .dataframe tbody tr th {\n",
       "        vertical-align: top;\n",
       "    }\n",
       "\n",
       "    .dataframe thead th {\n",
       "        text-align: right;\n",
       "    }\n",
       "</style>\n",
       "<table border=\"1\" class=\"dataframe\">\n",
       "  <thead>\n",
       "    <tr style=\"text-align: right;\">\n",
       "      <th></th>\n",
       "      <th>Name</th>\n",
       "      <th>Sales</th>\n",
       "      <th>Series</th>\n",
       "      <th>Release</th>\n",
       "      <th>Genre</th>\n",
       "      <th>Developer</th>\n",
       "      <th>Publisher</th>\n",
       "    </tr>\n",
       "  </thead>\n",
       "  <tbody>\n",
       "    <tr>\n",
       "      <th>0</th>\n",
       "      <td>PlayerUnknown's Battlegrounds</td>\n",
       "      <td>42.0</td>\n",
       "      <td>NaN</td>\n",
       "      <td>12/1/2017</td>\n",
       "      <td>Battle royale</td>\n",
       "      <td>PUBG Studios</td>\n",
       "      <td>Krafton</td>\n",
       "    </tr>\n",
       "    <tr>\n",
       "      <th>1</th>\n",
       "      <td>Minecraft</td>\n",
       "      <td>33.0</td>\n",
       "      <td>Minecraft</td>\n",
       "      <td>11/1/2011</td>\n",
       "      <td>Sandbox, survival</td>\n",
       "      <td>Mojang Studios</td>\n",
       "      <td>Mojang Studios</td>\n",
       "    </tr>\n",
       "    <tr>\n",
       "      <th>2</th>\n",
       "      <td>Diablo III</td>\n",
       "      <td>20.0</td>\n",
       "      <td>Diablo</td>\n",
       "      <td>5/1/2012</td>\n",
       "      <td>Action role-playing</td>\n",
       "      <td>Blizzard Entertainment</td>\n",
       "      <td>Blizzard Entertainment</td>\n",
       "    </tr>\n",
       "    <tr>\n",
       "      <th>3</th>\n",
       "      <td>Garry's Mod</td>\n",
       "      <td>20.0</td>\n",
       "      <td>NaN</td>\n",
       "      <td>11/1/2006</td>\n",
       "      <td>Sandbox</td>\n",
       "      <td>Facepunch Studios</td>\n",
       "      <td>Valve</td>\n",
       "    </tr>\n",
       "    <tr>\n",
       "      <th>4</th>\n",
       "      <td>Terraria</td>\n",
       "      <td>17.2</td>\n",
       "      <td>NaN</td>\n",
       "      <td>5/1/2011</td>\n",
       "      <td>Action-adventure</td>\n",
       "      <td>Re-Logic</td>\n",
       "      <td>Re-Logic</td>\n",
       "    </tr>\n",
       "  </tbody>\n",
       "</table>\n",
       "</div>"
      ],
      "text/plain": [
       "                            Name  Sales     Series    Release  \\\n",
       "0  PlayerUnknown's Battlegrounds   42.0        NaN  12/1/2017   \n",
       "1                      Minecraft   33.0  Minecraft  11/1/2011   \n",
       "2                     Diablo III   20.0     Diablo   5/1/2012   \n",
       "3                    Garry's Mod   20.0        NaN  11/1/2006   \n",
       "4                       Terraria   17.2        NaN   5/1/2011   \n",
       "\n",
       "                 Genre               Developer               Publisher  \n",
       "0        Battle royale            PUBG Studios                 Krafton  \n",
       "1    Sandbox, survival          Mojang Studios          Mojang Studios  \n",
       "2  Action role-playing  Blizzard Entertainment  Blizzard Entertainment  \n",
       "3              Sandbox       Facepunch Studios                   Valve  \n",
       "4     Action-adventure                Re-Logic                Re-Logic  "
      ]
     },
     "execution_count": 142,
     "metadata": {},
     "output_type": "execute_result"
    }
   ],
   "source": [
    "df.head()"
   ]
  },
  {
   "cell_type": "code",
   "execution_count": 119,
   "id": "10b536fc-7e26-471c-9c26-be3a2ab2092d",
   "metadata": {},
   "outputs": [
    {
     "name": "stdout",
     "output_type": "stream",
     "text": [
      "<class 'pandas.core.frame.DataFrame'>\n",
      "RangeIndex: 177 entries, 0 to 176\n",
      "Data columns (total 7 columns):\n",
      " #   Column     Non-Null Count  Dtype  \n",
      "---  ------     --------------  -----  \n",
      " 0   Name       177 non-null    object \n",
      " 1   Sales      177 non-null    float64\n",
      " 2   Series     141 non-null    object \n",
      " 3   Release    177 non-null    object \n",
      " 4   Genre      177 non-null    object \n",
      " 5   Developer  177 non-null    object \n",
      " 6   Publisher  177 non-null    object \n",
      "dtypes: float64(1), object(6)\n",
      "memory usage: 9.8+ KB\n"
     ]
    }
   ],
   "source": [
    "# view info data\n",
    "\n",
    "df.info()"
   ]
  },
  {
   "cell_type": "code",
   "execution_count": 121,
   "id": "809be5be-1f8a-4afd-8eb3-189c8cca5d9f",
   "metadata": {},
   "outputs": [
    {
     "data": {
      "text/plain": [
       "Name         177\n",
       "Sales        177\n",
       "Series       141\n",
       "Release      177\n",
       "Genre        177\n",
       "Developer    177\n",
       "Publisher    177\n",
       "dtype: int64"
      ]
     },
     "execution_count": 121,
     "metadata": {},
     "output_type": "execute_result"
    }
   ],
   "source": [
    "# View the Non NULL Count of Data\n",
    "\n",
    "df.notnull().sum()"
   ]
  },
  {
   "cell_type": "code",
   "execution_count": 122,
   "id": "d2a05d4d-ffd7-45f3-af8b-36449885f4e0",
   "metadata": {},
   "outputs": [
    {
     "data": {
      "text/plain": [
       "Name          0\n",
       "Sales         0\n",
       "Series       36\n",
       "Release       0\n",
       "Genre         0\n",
       "Developer     0\n",
       "Publisher     0\n",
       "dtype: int64"
      ]
     },
     "execution_count": 122,
     "metadata": {},
     "output_type": "execute_result"
    }
   ],
   "source": [
    "# view the amount of NaN from the data\n",
    "\n",
    "df.isnull().sum()"
   ]
  },
  {
   "cell_type": "code",
   "execution_count": 130,
   "id": "401f51c1-3b41-4408-a5b9-306bb12de7fe",
   "metadata": {},
   "outputs": [
    {
     "data": {
      "text/html": [
       "<div>\n",
       "<style scoped>\n",
       "    .dataframe tbody tr th:only-of-type {\n",
       "        vertical-align: middle;\n",
       "    }\n",
       "\n",
       "    .dataframe tbody tr th {\n",
       "        vertical-align: top;\n",
       "    }\n",
       "\n",
       "    .dataframe thead th {\n",
       "        text-align: right;\n",
       "    }\n",
       "</style>\n",
       "<table border=\"1\" class=\"dataframe\">\n",
       "  <thead>\n",
       "    <tr style=\"text-align: right;\">\n",
       "      <th></th>\n",
       "      <th>Name</th>\n",
       "      <th>Sales</th>\n",
       "      <th>Series</th>\n",
       "      <th>Release</th>\n",
       "      <th>Genre</th>\n",
       "      <th>Developer</th>\n",
       "      <th>Publisher</th>\n",
       "    </tr>\n",
       "  </thead>\n",
       "  <tbody>\n",
       "    <tr>\n",
       "      <th>173</th>\n",
       "      <td>Wing Commander 3: Heart of the Tiger</td>\n",
       "      <td>1.0</td>\n",
       "      <td>Wing Commander</td>\n",
       "      <td>12/1/1994</td>\n",
       "      <td>Space combat simulation</td>\n",
       "      <td>Origin Systems</td>\n",
       "      <td>Electronic Arts</td>\n",
       "    </tr>\n",
       "    <tr>\n",
       "      <th>174</th>\n",
       "      <td>Zoo Tycoon</td>\n",
       "      <td>1.0</td>\n",
       "      <td>Zoo Tycoon</td>\n",
       "      <td>10/1/2001</td>\n",
       "      <td>Business simulation</td>\n",
       "      <td>Microsoft</td>\n",
       "      <td>Blue Fang Games</td>\n",
       "    </tr>\n",
       "    <tr>\n",
       "      <th>175</th>\n",
       "      <td>StarCraft II: Heart of the Swarm</td>\n",
       "      <td>1.0</td>\n",
       "      <td>StarCraft</td>\n",
       "      <td>3/1/2013</td>\n",
       "      <td>Real-time strategy</td>\n",
       "      <td>Blizzard Entertainment</td>\n",
       "      <td>Blizzard Entertainment</td>\n",
       "    </tr>\n",
       "    <tr>\n",
       "      <th>176</th>\n",
       "      <td>StarCraft II: Legacy of the Void</td>\n",
       "      <td>1.0</td>\n",
       "      <td>StarCraft</td>\n",
       "      <td>11/1/2015</td>\n",
       "      <td>Real-time strategy</td>\n",
       "      <td>Blizzard Entertainment</td>\n",
       "      <td>Blizzard Entertainment</td>\n",
       "    </tr>\n",
       "  </tbody>\n",
       "</table>\n",
       "</div>"
      ],
      "text/plain": [
       "                                     Name  Sales          Series    Release  \\\n",
       "173  Wing Commander 3: Heart of the Tiger    1.0  Wing Commander  12/1/1994   \n",
       "174                            Zoo Tycoon    1.0      Zoo Tycoon  10/1/2001   \n",
       "175      StarCraft II: Heart of the Swarm    1.0       StarCraft   3/1/2013   \n",
       "176      StarCraft II: Legacy of the Void    1.0       StarCraft  11/1/2015   \n",
       "\n",
       "                       Genre               Developer               Publisher  \n",
       "173  Space combat simulation          Origin Systems         Electronic Arts  \n",
       "174      Business simulation               Microsoft         Blue Fang Games  \n",
       "175       Real-time strategy  Blizzard Entertainment  Blizzard Entertainment  \n",
       "176       Real-time strategy  Blizzard Entertainment  Blizzard Entertainment  "
      ]
     },
     "execution_count": 130,
     "metadata": {},
     "output_type": "execute_result"
    }
   ],
   "source": [
    "# Display data from below\n",
    "\n",
    "df.tail(4)"
   ]
  },
  {
   "cell_type": "code",
   "execution_count": 131,
   "id": "77163e9d-a398-4f82-9916-827a3f797f0f",
   "metadata": {},
   "outputs": [
    {
     "data": {
      "text/html": [
       "<div>\n",
       "<style scoped>\n",
       "    .dataframe tbody tr th:only-of-type {\n",
       "        vertical-align: middle;\n",
       "    }\n",
       "\n",
       "    .dataframe tbody tr th {\n",
       "        vertical-align: top;\n",
       "    }\n",
       "\n",
       "    .dataframe thead th {\n",
       "        text-align: right;\n",
       "    }\n",
       "</style>\n",
       "<table border=\"1\" class=\"dataframe\">\n",
       "  <thead>\n",
       "    <tr style=\"text-align: right;\">\n",
       "      <th></th>\n",
       "      <th>Sales</th>\n",
       "    </tr>\n",
       "  </thead>\n",
       "  <tbody>\n",
       "    <tr>\n",
       "      <th>count</th>\n",
       "      <td>177.000000</td>\n",
       "    </tr>\n",
       "    <tr>\n",
       "      <th>mean</th>\n",
       "      <td>3.116949</td>\n",
       "    </tr>\n",
       "    <tr>\n",
       "      <th>std</th>\n",
       "      <td>4.937466</td>\n",
       "    </tr>\n",
       "    <tr>\n",
       "      <th>min</th>\n",
       "      <td>1.000000</td>\n",
       "    </tr>\n",
       "    <tr>\n",
       "      <th>25%</th>\n",
       "      <td>1.000000</td>\n",
       "    </tr>\n",
       "    <tr>\n",
       "      <th>50%</th>\n",
       "      <td>1.500000</td>\n",
       "    </tr>\n",
       "    <tr>\n",
       "      <th>75%</th>\n",
       "      <td>3.000000</td>\n",
       "    </tr>\n",
       "    <tr>\n",
       "      <th>max</th>\n",
       "      <td>42.000000</td>\n",
       "    </tr>\n",
       "  </tbody>\n",
       "</table>\n",
       "</div>"
      ],
      "text/plain": [
       "            Sales\n",
       "count  177.000000\n",
       "mean     3.116949\n",
       "std      4.937466\n",
       "min      1.000000\n",
       "25%      1.000000\n",
       "50%      1.500000\n",
       "75%      3.000000\n",
       "max     42.000000"
      ]
     },
     "execution_count": 131,
     "metadata": {},
     "output_type": "execute_result"
    }
   ],
   "source": [
    "# Display information from columns in the form of numbers\n",
    "\n",
    "df.describe()"
   ]
  },
  {
   "cell_type": "code",
   "execution_count": 135,
   "id": "bc795a98-31d4-41e0-928f-d8169b8f0d1f",
   "metadata": {},
   "outputs": [
    {
     "data": {
      "text/plain": [
       "(177, 7)"
      ]
     },
     "execution_count": 135,
     "metadata": {},
     "output_type": "execute_result"
    }
   ],
   "source": [
    "# Display the number of rows and number of columns\n",
    "\n",
    "df.shape"
   ]
  },
  {
   "cell_type": "code",
   "execution_count": 137,
   "id": "c30e7e87-172e-4b08-b44d-36a50e421ec2",
   "metadata": {},
   "outputs": [
    {
     "data": {
      "text/plain": [
       "Index(['Name', 'Sales', 'Series', 'Release', 'Genre', 'Developer',\n",
       "       'Publisher'],\n",
       "      dtype='object')"
      ]
     },
     "execution_count": 137,
     "metadata": {},
     "output_type": "execute_result"
    }
   ],
   "source": [
    "# Display columns\n",
    "\n",
    "df.columns"
   ]
  },
  {
   "cell_type": "code",
   "execution_count": 138,
   "id": "f06c251a-61b2-427f-a775-c038af05816a",
   "metadata": {},
   "outputs": [
    {
     "data": {
      "text/plain": [
       "RangeIndex(start=0, stop=177, step=1)"
      ]
     },
     "execution_count": 138,
     "metadata": {},
     "output_type": "execute_result"
    }
   ],
   "source": [
    "# Display index\n",
    "\n",
    "df.index"
   ]
  },
  {
   "cell_type": "code",
   "execution_count": 132,
   "id": "bdf3d4a3-bc12-411b-bbee-c70082be0c98",
   "metadata": {},
   "outputs": [
    {
     "data": {
      "text/plain": [
       "3.116949152542373"
      ]
     },
     "execution_count": 132,
     "metadata": {},
     "output_type": "execute_result"
    }
   ],
   "source": [
    "# Display the average of a column\n",
    "\n",
    "df['Sales'].mean()"
   ]
  },
  {
   "cell_type": "code",
   "execution_count": 133,
   "id": "c8af459f-761b-454b-bb06-cfe7169ba4fa",
   "metadata": {},
   "outputs": [
    {
     "data": {
      "text/plain": [
       "1.5"
      ]
     },
     "execution_count": 133,
     "metadata": {},
     "output_type": "execute_result"
    }
   ],
   "source": [
    "# Display the median of a column\n",
    "\n",
    "df['Sales'].median()"
   ]
  },
  {
   "cell_type": "code",
   "execution_count": 134,
   "id": "9f3fcded-7317-4d39-8b03-60bb6a2f969d",
   "metadata": {},
   "outputs": [
    {
     "data": {
      "text/plain": [
       "0    1.0\n",
       "Name: Sales, dtype: float64"
      ]
     },
     "execution_count": 134,
     "metadata": {},
     "output_type": "execute_result"
    }
   ],
   "source": [
    "# Display the mode of a column\n",
    "\n",
    "df['Sales'].mode(1)"
   ]
  },
  {
   "cell_type": "code",
   "execution_count": 146,
   "id": "6a7c856a-dccb-4206-a345-4575396c81bb",
   "metadata": {},
   "outputs": [
    {
     "data": {
      "text/plain": [
       "1.0"
      ]
     },
     "execution_count": 146,
     "metadata": {},
     "output_type": "execute_result"
    }
   ],
   "source": [
    "# Display min of a column\n",
    "\n",
    "df['Sales'].min()"
   ]
  },
  {
   "cell_type": "code",
   "execution_count": 147,
   "id": "313dab07-bc7b-4586-b676-0f9f260cd59a",
   "metadata": {},
   "outputs": [
    {
     "data": {
      "text/plain": [
       "42.0"
      ]
     },
     "execution_count": 147,
     "metadata": {},
     "output_type": "execute_result"
    }
   ],
   "source": [
    "# Display max of a column\n",
    "\n",
    "df['Sales'].max()"
   ]
  },
  {
   "cell_type": "code",
   "execution_count": 151,
   "id": "18d4711e-0158-431e-afda-9c5ce3132b73",
   "metadata": {},
   "outputs": [
    {
     "data": {
      "text/html": [
       "<div>\n",
       "<style scoped>\n",
       "    .dataframe tbody tr th:only-of-type {\n",
       "        vertical-align: middle;\n",
       "    }\n",
       "\n",
       "    .dataframe tbody tr th {\n",
       "        vertical-align: top;\n",
       "    }\n",
       "\n",
       "    .dataframe thead th {\n",
       "        text-align: right;\n",
       "    }\n",
       "</style>\n",
       "<table border=\"1\" class=\"dataframe\">\n",
       "  <thead>\n",
       "    <tr style=\"text-align: right;\">\n",
       "      <th></th>\n",
       "      <th>Name</th>\n",
       "      <th>Sales</th>\n",
       "      <th>Series</th>\n",
       "      <th>Release</th>\n",
       "      <th>Genre</th>\n",
       "      <th>Developer</th>\n",
       "      <th>Publisher</th>\n",
       "    </tr>\n",
       "  </thead>\n",
       "  <tbody>\n",
       "    <tr>\n",
       "      <th>0</th>\n",
       "      <td>PlayerUnknown's Battlegrounds</td>\n",
       "      <td>42.0</td>\n",
       "      <td>NaN</td>\n",
       "      <td>12/1/2017</td>\n",
       "      <td>Battle royale</td>\n",
       "      <td>PUBG Studios</td>\n",
       "      <td>Krafton</td>\n",
       "    </tr>\n",
       "    <tr>\n",
       "      <th>3</th>\n",
       "      <td>Garry's Mod</td>\n",
       "      <td>20.0</td>\n",
       "      <td>NaN</td>\n",
       "      <td>11/1/2006</td>\n",
       "      <td>Sandbox</td>\n",
       "      <td>Facepunch Studios</td>\n",
       "      <td>Valve</td>\n",
       "    </tr>\n",
       "    <tr>\n",
       "      <th>4</th>\n",
       "      <td>Terraria</td>\n",
       "      <td>17.2</td>\n",
       "      <td>NaN</td>\n",
       "      <td>5/1/2011</td>\n",
       "      <td>Action-adventure</td>\n",
       "      <td>Re-Logic</td>\n",
       "      <td>Re-Logic</td>\n",
       "    </tr>\n",
       "    <tr>\n",
       "      <th>10</th>\n",
       "      <td>Fall Guys</td>\n",
       "      <td>10.0</td>\n",
       "      <td>NaN</td>\n",
       "      <td>8/1/2020</td>\n",
       "      <td>Battle royale</td>\n",
       "      <td>Mediatonic</td>\n",
       "      <td>Devolver Digital</td>\n",
       "    </tr>\n",
       "    <tr>\n",
       "      <th>13</th>\n",
       "      <td>Rust</td>\n",
       "      <td>9.0</td>\n",
       "      <td>NaN</td>\n",
       "      <td>2/1/2018</td>\n",
       "      <td>Survival</td>\n",
       "      <td>Facepunch Studios</td>\n",
       "      <td>Facepunch Studios</td>\n",
       "    </tr>\n",
       "    <tr>\n",
       "      <th>20</th>\n",
       "      <td>Valheim</td>\n",
       "      <td>6.0</td>\n",
       "      <td>NaN</td>\n",
       "      <td>2/1/2021</td>\n",
       "      <td>Survival</td>\n",
       "      <td>Iron Gate</td>\n",
       "      <td>Coffee Stain Publishing</td>\n",
       "    </tr>\n",
       "    <tr>\n",
       "      <th>23</th>\n",
       "      <td>Cities: Skylines</td>\n",
       "      <td>5.0</td>\n",
       "      <td>NaN</td>\n",
       "      <td>3/1/2015</td>\n",
       "      <td>City-building</td>\n",
       "      <td>Colossal Order</td>\n",
       "      <td>Paradox Interactive</td>\n",
       "    </tr>\n",
       "    <tr>\n",
       "      <th>26</th>\n",
       "      <td>The Forest</td>\n",
       "      <td>5.0</td>\n",
       "      <td>NaN</td>\n",
       "      <td>4/1/2018</td>\n",
       "      <td>Survival</td>\n",
       "      <td>Endnight Games</td>\n",
       "      <td>Endnight Games</td>\n",
       "    </tr>\n",
       "    <tr>\n",
       "      <th>27</th>\n",
       "      <td>Cyberpunk 2077</td>\n",
       "      <td>4.5</td>\n",
       "      <td>NaN</td>\n",
       "      <td>12/1/2020</td>\n",
       "      <td>Action role-playing</td>\n",
       "      <td>CD Projekt Red</td>\n",
       "      <td>CD Projekt</td>\n",
       "    </tr>\n",
       "    <tr>\n",
       "      <th>28</th>\n",
       "      <td>DayZ</td>\n",
       "      <td>4.0</td>\n",
       "      <td>NaN</td>\n",
       "      <td>12/1/2013</td>\n",
       "      <td>Survival</td>\n",
       "      <td>Bohemia Interactive</td>\n",
       "      <td>Bohemia Interactive</td>\n",
       "    </tr>\n",
       "    <tr>\n",
       "      <th>49</th>\n",
       "      <td>Factorio</td>\n",
       "      <td>2.5</td>\n",
       "      <td>NaN</td>\n",
       "      <td>2/1/2016</td>\n",
       "      <td>Construction and management simulation</td>\n",
       "      <td>Wube Software</td>\n",
       "      <td>Wube Software</td>\n",
       "    </tr>\n",
       "    <tr>\n",
       "      <th>72</th>\n",
       "      <td>Magicka</td>\n",
       "      <td>2.0</td>\n",
       "      <td>NaN</td>\n",
       "      <td>1/1/2011</td>\n",
       "      <td>Action-adventure</td>\n",
       "      <td>Arrowhead Game Studios</td>\n",
       "      <td>Paradox Interactive</td>\n",
       "    </tr>\n",
       "    <tr>\n",
       "      <th>74</th>\n",
       "      <td>Planet Coaster</td>\n",
       "      <td>2.0</td>\n",
       "      <td>NaN</td>\n",
       "      <td>11/1/2016</td>\n",
       "      <td>Construction and management simulation</td>\n",
       "      <td>Frontier Developments</td>\n",
       "      <td>Frontier Developments</td>\n",
       "    </tr>\n",
       "    <tr>\n",
       "      <th>78</th>\n",
       "      <td>Space Engineers</td>\n",
       "      <td>2.0</td>\n",
       "      <td>NaN</td>\n",
       "      <td>10/1/2013</td>\n",
       "      <td>Simulation</td>\n",
       "      <td>Keen Software House</td>\n",
       "      <td>Keen Software House</td>\n",
       "    </tr>\n",
       "    <tr>\n",
       "      <th>80</th>\n",
       "      <td>Stickfight: The Game</td>\n",
       "      <td>2.0</td>\n",
       "      <td>NaN</td>\n",
       "      <td>9/1/2017</td>\n",
       "      <td>Fighting</td>\n",
       "      <td>Landfall Games</td>\n",
       "      <td>Landfall Games</td>\n",
       "    </tr>\n",
       "    <tr>\n",
       "      <th>82</th>\n",
       "      <td>The Binding of Isaac</td>\n",
       "      <td>2.0</td>\n",
       "      <td>NaN</td>\n",
       "      <td>9/1/2011</td>\n",
       "      <td>Action-adventure, roguelike</td>\n",
       "      <td>Edmund McMillen &amp; Florian Himsl</td>\n",
       "      <td>Headup Games</td>\n",
       "    </tr>\n",
       "    <tr>\n",
       "      <th>90</th>\n",
       "      <td>Stellaris</td>\n",
       "      <td>1.5</td>\n",
       "      <td>NaN</td>\n",
       "      <td>5/1/2016</td>\n",
       "      <td>RTS, 4X, Grand Strategy</td>\n",
       "      <td>Paradox Development Studio</td>\n",
       "      <td>Paradox Interactive</td>\n",
       "    </tr>\n",
       "    <tr>\n",
       "      <th>92</th>\n",
       "      <td>Satisfactory</td>\n",
       "      <td>1.3</td>\n",
       "      <td>NaN</td>\n",
       "      <td>3/1/2019</td>\n",
       "      <td>Construction and management simulation</td>\n",
       "      <td>Coffee Stain Studios</td>\n",
       "      <td>Coffee Stain Publishing</td>\n",
       "    </tr>\n",
       "    <tr>\n",
       "      <th>96</th>\n",
       "      <td>Kingdom Come: Deliverance</td>\n",
       "      <td>1.1</td>\n",
       "      <td>NaN</td>\n",
       "      <td>2/1/2018</td>\n",
       "      <td>Action role-playing game</td>\n",
       "      <td>Warhorse Studios</td>\n",
       "      <td>Warhorse Studios</td>\n",
       "    </tr>\n",
       "    <tr>\n",
       "      <th>103</th>\n",
       "      <td>Blade Runner</td>\n",
       "      <td>1.0</td>\n",
       "      <td>NaN</td>\n",
       "      <td>11/1/1997</td>\n",
       "      <td>Point-and-click</td>\n",
       "      <td>Westwood Studios</td>\n",
       "      <td>Virgin Interactive</td>\n",
       "    </tr>\n",
       "    <tr>\n",
       "      <th>112</th>\n",
       "      <td>Cuphead</td>\n",
       "      <td>1.0</td>\n",
       "      <td>NaN</td>\n",
       "      <td>9/1/2017</td>\n",
       "      <td>Run and gun</td>\n",
       "      <td>StudioMDHR</td>\n",
       "      <td>StudioMDHR</td>\n",
       "    </tr>\n",
       "    <tr>\n",
       "      <th>119</th>\n",
       "      <td>Dungeon Lords</td>\n",
       "      <td>1.0</td>\n",
       "      <td>NaN</td>\n",
       "      <td>5/1/2005</td>\n",
       "      <td>Role-playing game</td>\n",
       "      <td>Heuristic Park</td>\n",
       "      <td>DreamCatcher Interactive</td>\n",
       "    </tr>\n",
       "    <tr>\n",
       "      <th>124</th>\n",
       "      <td>Full Throttle</td>\n",
       "      <td>1.0</td>\n",
       "      <td>NaN</td>\n",
       "      <td>4/1/1995</td>\n",
       "      <td>Graphic adventure</td>\n",
       "      <td>LucasArts</td>\n",
       "      <td>LucasArts</td>\n",
       "    </tr>\n",
       "    <tr>\n",
       "      <th>125</th>\n",
       "      <td>Glory of the Roman Empire</td>\n",
       "      <td>1.0</td>\n",
       "      <td>NaN</td>\n",
       "      <td>6/1/2006</td>\n",
       "      <td>City-building game</td>\n",
       "      <td>Haemimont Games</td>\n",
       "      <td>CDV Software</td>\n",
       "    </tr>\n",
       "    <tr>\n",
       "      <th>131</th>\n",
       "      <td>Hollow Knight</td>\n",
       "      <td>1.0</td>\n",
       "      <td>NaN</td>\n",
       "      <td>2/1/2017</td>\n",
       "      <td>Metroidvania</td>\n",
       "      <td>Team Cherry</td>\n",
       "      <td>Team Cherry</td>\n",
       "    </tr>\n",
       "    <tr>\n",
       "      <th>132</th>\n",
       "      <td>Hotel Giant</td>\n",
       "      <td>1.0</td>\n",
       "      <td>NaN</td>\n",
       "      <td>5/1/2002</td>\n",
       "      <td>Business simulation</td>\n",
       "      <td>Enlight Software</td>\n",
       "      <td>JoWood Productions</td>\n",
       "    </tr>\n",
       "    <tr>\n",
       "      <th>134</th>\n",
       "      <td>Imperivm: Great Battles of Rome</td>\n",
       "      <td>1.0</td>\n",
       "      <td>NaN</td>\n",
       "      <td>5/1/2005</td>\n",
       "      <td>Real-time strategy</td>\n",
       "      <td>Haemimont Games</td>\n",
       "      <td>FX Interactive</td>\n",
       "    </tr>\n",
       "    <tr>\n",
       "      <th>135</th>\n",
       "      <td>Just Survive[e]</td>\n",
       "      <td>1.0</td>\n",
       "      <td>NaN</td>\n",
       "      <td>1/1/2015</td>\n",
       "      <td>Survival</td>\n",
       "      <td>Daybreak Game Company</td>\n",
       "      <td>Daybreak Game Company</td>\n",
       "    </tr>\n",
       "    <tr>\n",
       "      <th>136</th>\n",
       "      <td>Killing Floor</td>\n",
       "      <td>1.0</td>\n",
       "      <td>NaN</td>\n",
       "      <td>5/1/2009</td>\n",
       "      <td>First-person shooter</td>\n",
       "      <td>Tripwire Interactive</td>\n",
       "      <td>Tripwire Interactive</td>\n",
       "    </tr>\n",
       "    <tr>\n",
       "      <th>137</th>\n",
       "      <td>Machinarium</td>\n",
       "      <td>1.0</td>\n",
       "      <td>NaN</td>\n",
       "      <td>10/1/2009</td>\n",
       "      <td>Graphic adventure, puzzle</td>\n",
       "      <td>Amanita Design</td>\n",
       "      <td>Amanita Design</td>\n",
       "    </tr>\n",
       "    <tr>\n",
       "      <th>139</th>\n",
       "      <td>Mordhau</td>\n",
       "      <td>1.0</td>\n",
       "      <td>NaN</td>\n",
       "      <td>4/1/2019</td>\n",
       "      <td>Action</td>\n",
       "      <td>Triternion</td>\n",
       "      <td>Triternion</td>\n",
       "    </tr>\n",
       "    <tr>\n",
       "      <th>140</th>\n",
       "      <td>Operation Flashpoint: Cold War Crisis</td>\n",
       "      <td>1.0</td>\n",
       "      <td>NaN</td>\n",
       "      <td>6/1/2001</td>\n",
       "      <td>Tactical shooter</td>\n",
       "      <td>Bohemia Interactive Studio</td>\n",
       "      <td>Codemasters</td>\n",
       "    </tr>\n",
       "    <tr>\n",
       "      <th>143</th>\n",
       "      <td>Prison Architect</td>\n",
       "      <td>1.0</td>\n",
       "      <td>NaN</td>\n",
       "      <td>9/1/2012</td>\n",
       "      <td>Construction and management simulation</td>\n",
       "      <td>Introversion Software</td>\n",
       "      <td>Introversion Software</td>\n",
       "    </tr>\n",
       "    <tr>\n",
       "      <th>159</th>\n",
       "      <td>Stardew Valley</td>\n",
       "      <td>1.0</td>\n",
       "      <td>NaN</td>\n",
       "      <td>2/1/2016</td>\n",
       "      <td>Simulation, role-playing game</td>\n",
       "      <td>ConcernedApe</td>\n",
       "      <td>ConcernedApe[f]</td>\n",
       "    </tr>\n",
       "    <tr>\n",
       "      <th>165</th>\n",
       "      <td>The Stanley Parable</td>\n",
       "      <td>1.0</td>\n",
       "      <td>NaN</td>\n",
       "      <td>10/1/2013</td>\n",
       "      <td>Interactive fiction</td>\n",
       "      <td>Galactic Cafe</td>\n",
       "      <td>Galactic Cafe</td>\n",
       "    </tr>\n",
       "    <tr>\n",
       "      <th>172</th>\n",
       "      <td>Who Wants to Be a Millionaire?</td>\n",
       "      <td>1.0</td>\n",
       "      <td>NaN</td>\n",
       "      <td>11/1/1999</td>\n",
       "      <td>Trivia game</td>\n",
       "      <td>Jellyvision</td>\n",
       "      <td>Disney Interactive Studios</td>\n",
       "    </tr>\n",
       "  </tbody>\n",
       "</table>\n",
       "</div>"
      ],
      "text/plain": [
       "                                      Name  Sales Series    Release  \\\n",
       "0            PlayerUnknown's Battlegrounds   42.0    NaN  12/1/2017   \n",
       "3                              Garry's Mod   20.0    NaN  11/1/2006   \n",
       "4                                 Terraria   17.2    NaN   5/1/2011   \n",
       "10                               Fall Guys   10.0    NaN   8/1/2020   \n",
       "13                                    Rust    9.0    NaN   2/1/2018   \n",
       "20                                 Valheim    6.0    NaN   2/1/2021   \n",
       "23                        Cities: Skylines    5.0    NaN   3/1/2015   \n",
       "26                              The Forest    5.0    NaN   4/1/2018   \n",
       "27                          Cyberpunk 2077    4.5    NaN  12/1/2020   \n",
       "28                                    DayZ    4.0    NaN  12/1/2013   \n",
       "49                                Factorio    2.5    NaN   2/1/2016   \n",
       "72                                 Magicka    2.0    NaN   1/1/2011   \n",
       "74                          Planet Coaster    2.0    NaN  11/1/2016   \n",
       "78                         Space Engineers    2.0    NaN  10/1/2013   \n",
       "80                    Stickfight: The Game    2.0    NaN   9/1/2017   \n",
       "82                    The Binding of Isaac    2.0    NaN   9/1/2011   \n",
       "90                               Stellaris    1.5    NaN   5/1/2016   \n",
       "92                            Satisfactory    1.3    NaN   3/1/2019   \n",
       "96               Kingdom Come: Deliverance    1.1    NaN   2/1/2018   \n",
       "103                           Blade Runner    1.0    NaN  11/1/1997   \n",
       "112                                Cuphead    1.0    NaN   9/1/2017   \n",
       "119                          Dungeon Lords    1.0    NaN   5/1/2005   \n",
       "124                          Full Throttle    1.0    NaN   4/1/1995   \n",
       "125              Glory of the Roman Empire    1.0    NaN   6/1/2006   \n",
       "131                          Hollow Knight    1.0    NaN   2/1/2017   \n",
       "132                            Hotel Giant    1.0    NaN   5/1/2002   \n",
       "134        Imperivm: Great Battles of Rome    1.0    NaN   5/1/2005   \n",
       "135                        Just Survive[e]    1.0    NaN   1/1/2015   \n",
       "136                          Killing Floor    1.0    NaN   5/1/2009   \n",
       "137                            Machinarium    1.0    NaN  10/1/2009   \n",
       "139                                Mordhau    1.0    NaN   4/1/2019   \n",
       "140  Operation Flashpoint: Cold War Crisis    1.0    NaN   6/1/2001   \n",
       "143                       Prison Architect    1.0    NaN   9/1/2012   \n",
       "159                         Stardew Valley    1.0    NaN   2/1/2016   \n",
       "165                    The Stanley Parable    1.0    NaN  10/1/2013   \n",
       "172         Who Wants to Be a Millionaire?    1.0    NaN  11/1/1999   \n",
       "\n",
       "                                      Genre                        Developer  \\\n",
       "0                             Battle royale                     PUBG Studios   \n",
       "3                                   Sandbox                Facepunch Studios   \n",
       "4                          Action-adventure                         Re-Logic   \n",
       "10                            Battle royale                       Mediatonic   \n",
       "13                                 Survival                Facepunch Studios   \n",
       "20                                 Survival                        Iron Gate   \n",
       "23                            City-building                   Colossal Order   \n",
       "26                                 Survival                   Endnight Games   \n",
       "27                      Action role-playing                   CD Projekt Red   \n",
       "28                                 Survival              Bohemia Interactive   \n",
       "49   Construction and management simulation                    Wube Software   \n",
       "72                         Action-adventure           Arrowhead Game Studios   \n",
       "74   Construction and management simulation            Frontier Developments   \n",
       "78                               Simulation              Keen Software House   \n",
       "80                                 Fighting                   Landfall Games   \n",
       "82              Action-adventure, roguelike  Edmund McMillen & Florian Himsl   \n",
       "90                  RTS, 4X, Grand Strategy       Paradox Development Studio   \n",
       "92   Construction and management simulation             Coffee Stain Studios   \n",
       "96                 Action role-playing game                 Warhorse Studios   \n",
       "103                         Point-and-click                 Westwood Studios   \n",
       "112                             Run and gun                       StudioMDHR   \n",
       "119                       Role-playing game                   Heuristic Park   \n",
       "124                       Graphic adventure                        LucasArts   \n",
       "125                      City-building game                  Haemimont Games   \n",
       "131                            Metroidvania                      Team Cherry   \n",
       "132                     Business simulation                 Enlight Software   \n",
       "134                      Real-time strategy                  Haemimont Games   \n",
       "135                                Survival            Daybreak Game Company   \n",
       "136                    First-person shooter             Tripwire Interactive   \n",
       "137               Graphic adventure, puzzle                   Amanita Design   \n",
       "139                                  Action                       Triternion   \n",
       "140                        Tactical shooter       Bohemia Interactive Studio   \n",
       "143  Construction and management simulation            Introversion Software   \n",
       "159           Simulation, role-playing game                     ConcernedApe   \n",
       "165                     Interactive fiction                    Galactic Cafe   \n",
       "172                             Trivia game                      Jellyvision   \n",
       "\n",
       "                      Publisher  \n",
       "0                       Krafton  \n",
       "3                         Valve  \n",
       "4                      Re-Logic  \n",
       "10             Devolver Digital  \n",
       "13            Facepunch Studios  \n",
       "20      Coffee Stain Publishing  \n",
       "23          Paradox Interactive  \n",
       "26               Endnight Games  \n",
       "27                   CD Projekt  \n",
       "28          Bohemia Interactive  \n",
       "49                Wube Software  \n",
       "72          Paradox Interactive  \n",
       "74        Frontier Developments  \n",
       "78          Keen Software House  \n",
       "80               Landfall Games  \n",
       "82                 Headup Games  \n",
       "90          Paradox Interactive  \n",
       "92      Coffee Stain Publishing  \n",
       "96             Warhorse Studios  \n",
       "103          Virgin Interactive  \n",
       "112                  StudioMDHR  \n",
       "119    DreamCatcher Interactive  \n",
       "124                   LucasArts  \n",
       "125                CDV Software  \n",
       "131                 Team Cherry  \n",
       "132          JoWood Productions  \n",
       "134              FX Interactive  \n",
       "135       Daybreak Game Company  \n",
       "136        Tripwire Interactive  \n",
       "137              Amanita Design  \n",
       "139                  Triternion  \n",
       "140                 Codemasters  \n",
       "143       Introversion Software  \n",
       "159             ConcernedApe[f]  \n",
       "165               Galactic Cafe  \n",
       "172  Disney Interactive Studios  "
      ]
     },
     "execution_count": 151,
     "metadata": {},
     "output_type": "execute_result"
    }
   ],
   "source": [
    "# Display Nan from a column\n",
    "\n",
    "df[df['Series'].isnull()]"
   ]
  },
  {
   "cell_type": "code",
   "execution_count": 153,
   "id": "f64ea143-724b-4a30-99d4-43e905325fb4",
   "metadata": {},
   "outputs": [
    {
     "data": {
      "text/plain": [
       "array([nan, 'Minecraft', 'Diablo', 'Warcraft', 'Half-Life', 'The Witcher',\n",
       "       'StarCraft', 'The Sims', 'RollerCoaster Tycoon', 'Civilization',\n",
       "       'Truck Simulator', 'Guild Wars', 'ARMA', 'The Last Ninja',\n",
       "       'SimCity', 'Populous', 'Warhammer', 'Carmen Sandiego',\n",
       "       'Dark Souls', 'Age of Empires', 'Command & Conquer', 'Crysis',\n",
       "       'EverQuest', 'Life Is Strange', 'Theme Park', 'Caesar',\n",
       "       'Lord of the Realm', 'Myst', 'Final Fantasy', '7 Days', 'Anno',\n",
       "       \"Baldur's Gate\", 'Battlefield', 'Black\\xa0&\\xa0White', 'Cossacks',\n",
       "       'Counter-Strike', 'Doom', 'Far Cry', 'Grand Theft Auto', 'Mafia',\n",
       "       'Neverwinter Nights', 'POD', 'Spore', 'Stronghold',\n",
       "       'Metal Gear Solid', 'Trucks Simulator', 'International Karate',\n",
       "       'Sega Mega Drive and Genesis Classics', 'Resident Evil',\n",
       "       'Street Fighter', 'Nier', 'Pac-Man', 'Alice',\n",
       "       'Ark: Survival Evolved', 'BioShock', 'Commandos', 'Crusader Kings',\n",
       "       'Danganronpa', 'Police Quest', 'Deer Hunter', 'Divinity',\n",
       "       'Duke Nukem', 'Dungeon Siege', 'Empire Earth',\n",
       "       'Europa Universalis', 'Frogger', 'Grand Prix', 'Harry Potter',\n",
       "       'Hearts of Iron', 'Hidden & Dangerous', 'Hydlide',\n",
       "       'Microsoft Flight Simulator', 'The Patrician', 'Phantasmagoria',\n",
       "       'Psychonauts', 'Quake', 'Railroad Tycoon', 'Wolfenstein', 'Zork',\n",
       "       'RoboCop', 'Total War', 'Runaway', 'Sacred', 'Star Wars',\n",
       "       'Total Annihilation', 'Tetris', 'The Legend of Sword and Fairy',\n",
       "       'Tropico', 'Unreal', 'Vietcong', 'Wing Commander', 'Zoo Tycoon'],\n",
       "      dtype=object)"
      ]
     },
     "execution_count": 153,
     "metadata": {},
     "output_type": "execute_result"
    }
   ],
   "source": [
    "# View unique data from a column\n",
    "\n",
    "df.Series.unique()"
   ]
  },
  {
   "cell_type": "code",
   "execution_count": 155,
   "id": "8b899a1f-74fd-4b0e-ba35-d99a124ceb25",
   "metadata": {},
   "outputs": [
    {
     "data": {
      "text/plain": [
       "array([42. , 33. , 20. , 17.2, 14. , 12. , 11. , 10. ,  9. ,  8. ,  7. ,\n",
       "        6.5,  6. ,  5.5,  5. ,  4.5,  4. ,  3.6,  3.3,  3. ,  2.7,  2.5,\n",
       "        2.1,  2. ,  1.8,  1.5,  1.3,  1.2,  1.1,  1. ])"
      ]
     },
     "execution_count": 155,
     "metadata": {},
     "output_type": "execute_result"
    }
   ],
   "source": [
    "df['Sales'].unique()"
   ]
  },
  {
   "cell_type": "code",
   "execution_count": 156,
   "id": "15aa5359-f315-4177-be0e-66334f3745b8",
   "metadata": {},
   "outputs": [
    {
     "data": {
      "text/plain": [
       "91"
      ]
     },
     "execution_count": 156,
     "metadata": {},
     "output_type": "execute_result"
    }
   ],
   "source": [
    "# View the number of uniques from a column\n",
    "\n",
    "df.Series.nunique()"
   ]
  },
  {
   "cell_type": "code",
   "execution_count": 157,
   "id": "29b858b0-f570-401a-a574-c23e841b25db",
   "metadata": {},
   "outputs": [
    {
     "data": {
      "text/plain": [
       "Series\n",
       "StarCraft                6\n",
       "Command & Conquer        5\n",
       "Civilization             4\n",
       "Age of Empires           4\n",
       "Warcraft                 3\n",
       "                        ..\n",
       "Alice                    1\n",
       "Ark: Survival Evolved    1\n",
       "BioShock                 1\n",
       "Commandos                1\n",
       "Zoo Tycoon               1\n",
       "Name: count, Length: 91, dtype: int64"
      ]
     },
     "execution_count": 157,
     "metadata": {},
     "output_type": "execute_result"
    }
   ],
   "source": [
    "# View proportion from a column\n",
    "\n",
    "df.Series.value_counts()"
   ]
  },
  {
   "cell_type": "code",
   "execution_count": 158,
   "id": "8c1f04b1-6140-457e-a945-0dc18bc60857",
   "metadata": {},
   "outputs": [
    {
     "data": {
      "text/html": [
       "<div>\n",
       "<style scoped>\n",
       "    .dataframe tbody tr th:only-of-type {\n",
       "        vertical-align: middle;\n",
       "    }\n",
       "\n",
       "    .dataframe tbody tr th {\n",
       "        vertical-align: top;\n",
       "    }\n",
       "\n",
       "    .dataframe thead th {\n",
       "        text-align: right;\n",
       "    }\n",
       "</style>\n",
       "<table border=\"1\" class=\"dataframe\">\n",
       "  <thead>\n",
       "    <tr style=\"text-align: right;\">\n",
       "      <th></th>\n",
       "      <th>Name</th>\n",
       "      <th>Genre</th>\n",
       "      <th>Developer</th>\n",
       "    </tr>\n",
       "  </thead>\n",
       "  <tbody>\n",
       "    <tr>\n",
       "      <th>0</th>\n",
       "      <td>PlayerUnknown's Battlegrounds</td>\n",
       "      <td>Battle royale</td>\n",
       "      <td>PUBG Studios</td>\n",
       "    </tr>\n",
       "    <tr>\n",
       "      <th>1</th>\n",
       "      <td>Minecraft</td>\n",
       "      <td>Sandbox, survival</td>\n",
       "      <td>Mojang Studios</td>\n",
       "    </tr>\n",
       "    <tr>\n",
       "      <th>2</th>\n",
       "      <td>Diablo III</td>\n",
       "      <td>Action role-playing</td>\n",
       "      <td>Blizzard Entertainment</td>\n",
       "    </tr>\n",
       "    <tr>\n",
       "      <th>3</th>\n",
       "      <td>Garry's Mod</td>\n",
       "      <td>Sandbox</td>\n",
       "      <td>Facepunch Studios</td>\n",
       "    </tr>\n",
       "    <tr>\n",
       "      <th>4</th>\n",
       "      <td>Terraria</td>\n",
       "      <td>Action-adventure</td>\n",
       "      <td>Re-Logic</td>\n",
       "    </tr>\n",
       "    <tr>\n",
       "      <th>...</th>\n",
       "      <td>...</td>\n",
       "      <td>...</td>\n",
       "      <td>...</td>\n",
       "    </tr>\n",
       "    <tr>\n",
       "      <th>172</th>\n",
       "      <td>Who Wants to Be a Millionaire?</td>\n",
       "      <td>Trivia game</td>\n",
       "      <td>Jellyvision</td>\n",
       "    </tr>\n",
       "    <tr>\n",
       "      <th>173</th>\n",
       "      <td>Wing Commander 3: Heart of the Tiger</td>\n",
       "      <td>Space combat simulation</td>\n",
       "      <td>Origin Systems</td>\n",
       "    </tr>\n",
       "    <tr>\n",
       "      <th>174</th>\n",
       "      <td>Zoo Tycoon</td>\n",
       "      <td>Business simulation</td>\n",
       "      <td>Microsoft</td>\n",
       "    </tr>\n",
       "    <tr>\n",
       "      <th>175</th>\n",
       "      <td>StarCraft II: Heart of the Swarm</td>\n",
       "      <td>Real-time strategy</td>\n",
       "      <td>Blizzard Entertainment</td>\n",
       "    </tr>\n",
       "    <tr>\n",
       "      <th>176</th>\n",
       "      <td>StarCraft II: Legacy of the Void</td>\n",
       "      <td>Real-time strategy</td>\n",
       "      <td>Blizzard Entertainment</td>\n",
       "    </tr>\n",
       "  </tbody>\n",
       "</table>\n",
       "<p>177 rows × 3 columns</p>\n",
       "</div>"
      ],
      "text/plain": [
       "                                     Name                    Genre  \\\n",
       "0           PlayerUnknown's Battlegrounds            Battle royale   \n",
       "1                               Minecraft        Sandbox, survival   \n",
       "2                              Diablo III      Action role-playing   \n",
       "3                             Garry's Mod                  Sandbox   \n",
       "4                                Terraria         Action-adventure   \n",
       "..                                    ...                      ...   \n",
       "172        Who Wants to Be a Millionaire?              Trivia game   \n",
       "173  Wing Commander 3: Heart of the Tiger  Space combat simulation   \n",
       "174                            Zoo Tycoon      Business simulation   \n",
       "175      StarCraft II: Heart of the Swarm       Real-time strategy   \n",
       "176      StarCraft II: Legacy of the Void       Real-time strategy   \n",
       "\n",
       "                  Developer  \n",
       "0              PUBG Studios  \n",
       "1            Mojang Studios  \n",
       "2    Blizzard Entertainment  \n",
       "3         Facepunch Studios  \n",
       "4                  Re-Logic  \n",
       "..                      ...  \n",
       "172             Jellyvision  \n",
       "173          Origin Systems  \n",
       "174               Microsoft  \n",
       "175  Blizzard Entertainment  \n",
       "176  Blizzard Entertainment  \n",
       "\n",
       "[177 rows x 3 columns]"
      ]
     },
     "execution_count": 158,
     "metadata": {},
     "output_type": "execute_result"
    }
   ],
   "source": [
    "# How to call a specific columns\n",
    "\n",
    "df[['Name', 'Genre', 'Developer']]"
   ]
  },
  {
   "cell_type": "code",
   "execution_count": 167,
   "id": "0777c193-c744-406c-9cf2-b4fd2704df27",
   "metadata": {},
   "outputs": [
    {
     "data": {
      "text/html": [
       "<div>\n",
       "<style scoped>\n",
       "    .dataframe tbody tr th:only-of-type {\n",
       "        vertical-align: middle;\n",
       "    }\n",
       "\n",
       "    .dataframe tbody tr th {\n",
       "        vertical-align: top;\n",
       "    }\n",
       "\n",
       "    .dataframe thead th {\n",
       "        text-align: right;\n",
       "    }\n",
       "</style>\n",
       "<table border=\"1\" class=\"dataframe\">\n",
       "  <thead>\n",
       "    <tr style=\"text-align: right;\">\n",
       "      <th></th>\n",
       "      <th>Name</th>\n",
       "      <th>Sales</th>\n",
       "      <th>Series</th>\n",
       "      <th>Release</th>\n",
       "      <th>Genre</th>\n",
       "      <th>Developer</th>\n",
       "      <th>Publisher</th>\n",
       "    </tr>\n",
       "  </thead>\n",
       "  <tbody>\n",
       "    <tr>\n",
       "      <th>2</th>\n",
       "      <td>Diablo III</td>\n",
       "      <td>20.0</td>\n",
       "      <td>Diablo</td>\n",
       "      <td>5/1/2012</td>\n",
       "      <td>Action role-playing</td>\n",
       "      <td>Blizzard Entertainment</td>\n",
       "      <td>Blizzard Entertainment</td>\n",
       "    </tr>\n",
       "    <tr>\n",
       "      <th>3</th>\n",
       "      <td>Garry's Mod</td>\n",
       "      <td>20.0</td>\n",
       "      <td>NaN</td>\n",
       "      <td>11/1/2006</td>\n",
       "      <td>Sandbox</td>\n",
       "      <td>Facepunch Studios</td>\n",
       "      <td>Valve</td>\n",
       "    </tr>\n",
       "  </tbody>\n",
       "</table>\n",
       "</div>"
      ],
      "text/plain": [
       "          Name  Sales  Series    Release                Genre  \\\n",
       "2   Diablo III   20.0  Diablo   5/1/2012  Action role-playing   \n",
       "3  Garry's Mod   20.0     NaN  11/1/2006              Sandbox   \n",
       "\n",
       "                Developer               Publisher  \n",
       "2  Blizzard Entertainment  Blizzard Entertainment  \n",
       "3       Facepunch Studios                   Valve  "
      ]
     },
     "execution_count": 167,
     "metadata": {},
     "output_type": "execute_result"
    }
   ],
   "source": [
    "# Call 'Sales' whose value is 20\n",
    "\n",
    "df[df['Sales']==20]"
   ]
  },
  {
   "cell_type": "code",
   "execution_count": 168,
   "id": "f6efc27d-0a3b-4bc6-a669-85adc48bbb48",
   "metadata": {},
   "outputs": [
    {
     "data": {
      "text/html": [
       "<div>\n",
       "<style scoped>\n",
       "    .dataframe tbody tr th:only-of-type {\n",
       "        vertical-align: middle;\n",
       "    }\n",
       "\n",
       "    .dataframe tbody tr th {\n",
       "        vertical-align: top;\n",
       "    }\n",
       "\n",
       "    .dataframe thead th {\n",
       "        text-align: right;\n",
       "    }\n",
       "</style>\n",
       "<table border=\"1\" class=\"dataframe\">\n",
       "  <thead>\n",
       "    <tr style=\"text-align: right;\">\n",
       "      <th></th>\n",
       "      <th>Name</th>\n",
       "      <th>Sales</th>\n",
       "      <th>Series</th>\n",
       "      <th>Release</th>\n",
       "      <th>Genre</th>\n",
       "      <th>Developer</th>\n",
       "      <th>Publisher</th>\n",
       "    </tr>\n",
       "  </thead>\n",
       "  <tbody>\n",
       "    <tr>\n",
       "      <th>0</th>\n",
       "      <td>PlayerUnknown's Battlegrounds</td>\n",
       "      <td>42.0</td>\n",
       "      <td>NaN</td>\n",
       "      <td>12/1/2017</td>\n",
       "      <td>Battle royale</td>\n",
       "      <td>PUBG Studios</td>\n",
       "      <td>Krafton</td>\n",
       "    </tr>\n",
       "    <tr>\n",
       "      <th>1</th>\n",
       "      <td>Minecraft</td>\n",
       "      <td>33.0</td>\n",
       "      <td>Minecraft</td>\n",
       "      <td>11/1/2011</td>\n",
       "      <td>Sandbox, survival</td>\n",
       "      <td>Mojang Studios</td>\n",
       "      <td>Mojang Studios</td>\n",
       "    </tr>\n",
       "  </tbody>\n",
       "</table>\n",
       "</div>"
      ],
      "text/plain": [
       "                            Name  Sales     Series    Release  \\\n",
       "0  PlayerUnknown's Battlegrounds   42.0        NaN  12/1/2017   \n",
       "1                      Minecraft   33.0  Minecraft  11/1/2011   \n",
       "\n",
       "               Genre       Developer       Publisher  \n",
       "0      Battle royale    PUBG Studios         Krafton  \n",
       "1  Sandbox, survival  Mojang Studios  Mojang Studios  "
      ]
     },
     "execution_count": 168,
     "metadata": {},
     "output_type": "execute_result"
    }
   ],
   "source": [
    "# Call 'Sales' whose value > 20\n",
    "\n",
    "df[df['Sales']>20]"
   ]
  },
  {
   "cell_type": "code",
   "execution_count": 169,
   "id": "30cc2ec6-3d1d-493a-8ef1-a76228f88c87",
   "metadata": {},
   "outputs": [
    {
     "data": {
      "text/html": [
       "<div>\n",
       "<style scoped>\n",
       "    .dataframe tbody tr th:only-of-type {\n",
       "        vertical-align: middle;\n",
       "    }\n",
       "\n",
       "    .dataframe tbody tr th {\n",
       "        vertical-align: top;\n",
       "    }\n",
       "\n",
       "    .dataframe thead th {\n",
       "        text-align: right;\n",
       "    }\n",
       "</style>\n",
       "<table border=\"1\" class=\"dataframe\">\n",
       "  <thead>\n",
       "    <tr style=\"text-align: right;\">\n",
       "      <th></th>\n",
       "      <th>Name</th>\n",
       "      <th>Sales</th>\n",
       "      <th>Series</th>\n",
       "      <th>Release</th>\n",
       "      <th>Genre</th>\n",
       "      <th>Developer</th>\n",
       "      <th>Publisher</th>\n",
       "    </tr>\n",
       "  </thead>\n",
       "  <tbody>\n",
       "    <tr>\n",
       "      <th>2</th>\n",
       "      <td>Diablo III</td>\n",
       "      <td>20.0</td>\n",
       "      <td>Diablo</td>\n",
       "      <td>5/1/2012</td>\n",
       "      <td>Action role-playing</td>\n",
       "      <td>Blizzard Entertainment</td>\n",
       "      <td>Blizzard Entertainment</td>\n",
       "    </tr>\n",
       "    <tr>\n",
       "      <th>3</th>\n",
       "      <td>Garry's Mod</td>\n",
       "      <td>20.0</td>\n",
       "      <td>NaN</td>\n",
       "      <td>11/1/2006</td>\n",
       "      <td>Sandbox</td>\n",
       "      <td>Facepunch Studios</td>\n",
       "      <td>Valve</td>\n",
       "    </tr>\n",
       "    <tr>\n",
       "      <th>4</th>\n",
       "      <td>Terraria</td>\n",
       "      <td>17.2</td>\n",
       "      <td>NaN</td>\n",
       "      <td>5/1/2011</td>\n",
       "      <td>Action-adventure</td>\n",
       "      <td>Re-Logic</td>\n",
       "      <td>Re-Logic</td>\n",
       "    </tr>\n",
       "    <tr>\n",
       "      <th>5</th>\n",
       "      <td>World of Warcraft</td>\n",
       "      <td>14.0</td>\n",
       "      <td>Warcraft</td>\n",
       "      <td>11/1/2004</td>\n",
       "      <td>MMORPG</td>\n",
       "      <td>Blizzard Entertainment</td>\n",
       "      <td>Blizzard Entertainment</td>\n",
       "    </tr>\n",
       "    <tr>\n",
       "      <th>6</th>\n",
       "      <td>Half-Life 2</td>\n",
       "      <td>12.0</td>\n",
       "      <td>Half-Life</td>\n",
       "      <td>11/1/2004</td>\n",
       "      <td>First-person shooter</td>\n",
       "      <td>Valve</td>\n",
       "      <td>Valve (digital)</td>\n",
       "    </tr>\n",
       "    <tr>\n",
       "      <th>...</th>\n",
       "      <td>...</td>\n",
       "      <td>...</td>\n",
       "      <td>...</td>\n",
       "      <td>...</td>\n",
       "      <td>...</td>\n",
       "      <td>...</td>\n",
       "      <td>...</td>\n",
       "    </tr>\n",
       "    <tr>\n",
       "      <th>172</th>\n",
       "      <td>Who Wants to Be a Millionaire?</td>\n",
       "      <td>1.0</td>\n",
       "      <td>NaN</td>\n",
       "      <td>11/1/1999</td>\n",
       "      <td>Trivia game</td>\n",
       "      <td>Jellyvision</td>\n",
       "      <td>Disney Interactive Studios</td>\n",
       "    </tr>\n",
       "    <tr>\n",
       "      <th>173</th>\n",
       "      <td>Wing Commander 3: Heart of the Tiger</td>\n",
       "      <td>1.0</td>\n",
       "      <td>Wing Commander</td>\n",
       "      <td>12/1/1994</td>\n",
       "      <td>Space combat simulation</td>\n",
       "      <td>Origin Systems</td>\n",
       "      <td>Electronic Arts</td>\n",
       "    </tr>\n",
       "    <tr>\n",
       "      <th>174</th>\n",
       "      <td>Zoo Tycoon</td>\n",
       "      <td>1.0</td>\n",
       "      <td>Zoo Tycoon</td>\n",
       "      <td>10/1/2001</td>\n",
       "      <td>Business simulation</td>\n",
       "      <td>Microsoft</td>\n",
       "      <td>Blue Fang Games</td>\n",
       "    </tr>\n",
       "    <tr>\n",
       "      <th>175</th>\n",
       "      <td>StarCraft II: Heart of the Swarm</td>\n",
       "      <td>1.0</td>\n",
       "      <td>StarCraft</td>\n",
       "      <td>3/1/2013</td>\n",
       "      <td>Real-time strategy</td>\n",
       "      <td>Blizzard Entertainment</td>\n",
       "      <td>Blizzard Entertainment</td>\n",
       "    </tr>\n",
       "    <tr>\n",
       "      <th>176</th>\n",
       "      <td>StarCraft II: Legacy of the Void</td>\n",
       "      <td>1.0</td>\n",
       "      <td>StarCraft</td>\n",
       "      <td>11/1/2015</td>\n",
       "      <td>Real-time strategy</td>\n",
       "      <td>Blizzard Entertainment</td>\n",
       "      <td>Blizzard Entertainment</td>\n",
       "    </tr>\n",
       "  </tbody>\n",
       "</table>\n",
       "<p>175 rows × 7 columns</p>\n",
       "</div>"
      ],
      "text/plain": [
       "                                     Name  Sales          Series    Release  \\\n",
       "2                              Diablo III   20.0          Diablo   5/1/2012   \n",
       "3                             Garry's Mod   20.0             NaN  11/1/2006   \n",
       "4                                Terraria   17.2             NaN   5/1/2011   \n",
       "5                       World of Warcraft   14.0        Warcraft  11/1/2004   \n",
       "6                             Half-Life 2   12.0       Half-Life  11/1/2004   \n",
       "..                                    ...    ...             ...        ...   \n",
       "172        Who Wants to Be a Millionaire?    1.0             NaN  11/1/1999   \n",
       "173  Wing Commander 3: Heart of the Tiger    1.0  Wing Commander  12/1/1994   \n",
       "174                            Zoo Tycoon    1.0      Zoo Tycoon  10/1/2001   \n",
       "175      StarCraft II: Heart of the Swarm    1.0       StarCraft   3/1/2013   \n",
       "176      StarCraft II: Legacy of the Void    1.0       StarCraft  11/1/2015   \n",
       "\n",
       "                       Genre               Developer  \\\n",
       "2        Action role-playing  Blizzard Entertainment   \n",
       "3                    Sandbox       Facepunch Studios   \n",
       "4           Action-adventure                Re-Logic   \n",
       "5                     MMORPG  Blizzard Entertainment   \n",
       "6       First-person shooter                   Valve   \n",
       "..                       ...                     ...   \n",
       "172              Trivia game             Jellyvision   \n",
       "173  Space combat simulation          Origin Systems   \n",
       "174      Business simulation               Microsoft   \n",
       "175       Real-time strategy  Blizzard Entertainment   \n",
       "176       Real-time strategy  Blizzard Entertainment   \n",
       "\n",
       "                      Publisher  \n",
       "2        Blizzard Entertainment  \n",
       "3                         Valve  \n",
       "4                      Re-Logic  \n",
       "5        Blizzard Entertainment  \n",
       "6               Valve (digital)  \n",
       "..                          ...  \n",
       "172  Disney Interactive Studios  \n",
       "173             Electronic Arts  \n",
       "174             Blue Fang Games  \n",
       "175      Blizzard Entertainment  \n",
       "176      Blizzard Entertainment  \n",
       "\n",
       "[175 rows x 7 columns]"
      ]
     },
     "execution_count": 169,
     "metadata": {},
     "output_type": "execute_result"
    }
   ],
   "source": [
    "# Call 'Sales' whose value <= 20\n",
    "\n",
    "df[~(df['Sales']>20)]"
   ]
  },
  {
   "cell_type": "code",
   "execution_count": 173,
   "id": "12b1fd7d-feab-4f40-9128-d7ae1abecbe6",
   "metadata": {},
   "outputs": [
    {
     "data": {
      "text/html": [
       "<div>\n",
       "<style scoped>\n",
       "    .dataframe tbody tr th:only-of-type {\n",
       "        vertical-align: middle;\n",
       "    }\n",
       "\n",
       "    .dataframe tbody tr th {\n",
       "        vertical-align: top;\n",
       "    }\n",
       "\n",
       "    .dataframe thead th {\n",
       "        text-align: right;\n",
       "    }\n",
       "</style>\n",
       "<table border=\"1\" class=\"dataframe\">\n",
       "  <thead>\n",
       "    <tr style=\"text-align: right;\">\n",
       "      <th></th>\n",
       "      <th>Name</th>\n",
       "      <th>Sales</th>\n",
       "      <th>Series</th>\n",
       "      <th>Release</th>\n",
       "      <th>Genre</th>\n",
       "      <th>Developer</th>\n",
       "      <th>Publisher</th>\n",
       "    </tr>\n",
       "  </thead>\n",
       "  <tbody>\n",
       "    <tr>\n",
       "      <th>0</th>\n",
       "      <td>PlayerUnknown's Battlegrounds</td>\n",
       "      <td>42.0</td>\n",
       "      <td>NaN</td>\n",
       "      <td>12/1/2017</td>\n",
       "      <td>Battle royale</td>\n",
       "      <td>PUBG Studios</td>\n",
       "      <td>Krafton</td>\n",
       "    </tr>\n",
       "  </tbody>\n",
       "</table>\n",
       "</div>"
      ],
      "text/plain": [
       "                            Name  Sales Series    Release          Genre  \\\n",
       "0  PlayerUnknown's Battlegrounds   42.0    NaN  12/1/2017  Battle royale   \n",
       "\n",
       "      Developer Publisher  \n",
       "0  PUBG Studios   Krafton  "
      ]
     },
     "execution_count": 173,
     "metadata": {},
     "output_type": "execute_result"
    }
   ],
   "source": [
    "# Call 'Sales' whose value > 20 and Developer is PUBG Studios\n",
    "\n",
    "df[(df['Sales']>20) & (df['Developer']=='PUBG Studios')]"
   ]
  },
  {
   "cell_type": "code",
   "execution_count": 175,
   "id": "6be44062-77c9-4132-bdbf-350c3523d365",
   "metadata": {},
   "outputs": [
    {
     "data": {
      "text/html": [
       "<div>\n",
       "<style scoped>\n",
       "    .dataframe tbody tr th:only-of-type {\n",
       "        vertical-align: middle;\n",
       "    }\n",
       "\n",
       "    .dataframe tbody tr th {\n",
       "        vertical-align: top;\n",
       "    }\n",
       "\n",
       "    .dataframe thead th {\n",
       "        text-align: right;\n",
       "    }\n",
       "</style>\n",
       "<table border=\"1\" class=\"dataframe\">\n",
       "  <thead>\n",
       "    <tr style=\"text-align: right;\">\n",
       "      <th></th>\n",
       "      <th>Name</th>\n",
       "      <th>Sales</th>\n",
       "      <th>Series</th>\n",
       "      <th>Release</th>\n",
       "      <th>Genre</th>\n",
       "      <th>Developer</th>\n",
       "      <th>Publisher</th>\n",
       "    </tr>\n",
       "  </thead>\n",
       "  <tbody>\n",
       "    <tr>\n",
       "      <th>0</th>\n",
       "      <td>PlayerUnknown's Battlegrounds</td>\n",
       "      <td>42.0</td>\n",
       "      <td>NaN</td>\n",
       "      <td>12/1/2017</td>\n",
       "      <td>Battle royale</td>\n",
       "      <td>PUBG Studios</td>\n",
       "      <td>Krafton</td>\n",
       "    </tr>\n",
       "    <tr>\n",
       "      <th>4</th>\n",
       "      <td>Terraria</td>\n",
       "      <td>17.2</td>\n",
       "      <td>NaN</td>\n",
       "      <td>5/1/2011</td>\n",
       "      <td>Action-adventure</td>\n",
       "      <td>Re-Logic</td>\n",
       "      <td>Re-Logic</td>\n",
       "    </tr>\n",
       "    <tr>\n",
       "      <th>5</th>\n",
       "      <td>World of Warcraft</td>\n",
       "      <td>14.0</td>\n",
       "      <td>Warcraft</td>\n",
       "      <td>11/1/2004</td>\n",
       "      <td>MMORPG</td>\n",
       "      <td>Blizzard Entertainment</td>\n",
       "      <td>Blizzard Entertainment</td>\n",
       "    </tr>\n",
       "    <tr>\n",
       "      <th>6</th>\n",
       "      <td>Half-Life 2</td>\n",
       "      <td>12.0</td>\n",
       "      <td>Half-Life</td>\n",
       "      <td>11/1/2004</td>\n",
       "      <td>First-person shooter</td>\n",
       "      <td>Valve</td>\n",
       "      <td>Valve (digital)</td>\n",
       "    </tr>\n",
       "    <tr>\n",
       "      <th>7</th>\n",
       "      <td>The Witcher 3: Wild Hunt</td>\n",
       "      <td>12.0</td>\n",
       "      <td>The Witcher</td>\n",
       "      <td>5/1/2015</td>\n",
       "      <td>Action role-playing</td>\n",
       "      <td>CD Projekt Red</td>\n",
       "      <td>CD Projekt</td>\n",
       "    </tr>\n",
       "    <tr>\n",
       "      <th>...</th>\n",
       "      <td>...</td>\n",
       "      <td>...</td>\n",
       "      <td>...</td>\n",
       "      <td>...</td>\n",
       "      <td>...</td>\n",
       "      <td>...</td>\n",
       "      <td>...</td>\n",
       "    </tr>\n",
       "    <tr>\n",
       "      <th>172</th>\n",
       "      <td>Who Wants to Be a Millionaire?</td>\n",
       "      <td>1.0</td>\n",
       "      <td>NaN</td>\n",
       "      <td>11/1/1999</td>\n",
       "      <td>Trivia game</td>\n",
       "      <td>Jellyvision</td>\n",
       "      <td>Disney Interactive Studios</td>\n",
       "    </tr>\n",
       "    <tr>\n",
       "      <th>173</th>\n",
       "      <td>Wing Commander 3: Heart of the Tiger</td>\n",
       "      <td>1.0</td>\n",
       "      <td>Wing Commander</td>\n",
       "      <td>12/1/1994</td>\n",
       "      <td>Space combat simulation</td>\n",
       "      <td>Origin Systems</td>\n",
       "      <td>Electronic Arts</td>\n",
       "    </tr>\n",
       "    <tr>\n",
       "      <th>174</th>\n",
       "      <td>Zoo Tycoon</td>\n",
       "      <td>1.0</td>\n",
       "      <td>Zoo Tycoon</td>\n",
       "      <td>10/1/2001</td>\n",
       "      <td>Business simulation</td>\n",
       "      <td>Microsoft</td>\n",
       "      <td>Blue Fang Games</td>\n",
       "    </tr>\n",
       "    <tr>\n",
       "      <th>175</th>\n",
       "      <td>StarCraft II: Heart of the Swarm</td>\n",
       "      <td>1.0</td>\n",
       "      <td>StarCraft</td>\n",
       "      <td>3/1/2013</td>\n",
       "      <td>Real-time strategy</td>\n",
       "      <td>Blizzard Entertainment</td>\n",
       "      <td>Blizzard Entertainment</td>\n",
       "    </tr>\n",
       "    <tr>\n",
       "      <th>176</th>\n",
       "      <td>StarCraft II: Legacy of the Void</td>\n",
       "      <td>1.0</td>\n",
       "      <td>StarCraft</td>\n",
       "      <td>11/1/2015</td>\n",
       "      <td>Real-time strategy</td>\n",
       "      <td>Blizzard Entertainment</td>\n",
       "      <td>Blizzard Entertainment</td>\n",
       "    </tr>\n",
       "  </tbody>\n",
       "</table>\n",
       "<p>174 rows × 7 columns</p>\n",
       "</div>"
      ],
      "text/plain": [
       "                                     Name  Sales          Series    Release  \\\n",
       "0           PlayerUnknown's Battlegrounds   42.0             NaN  12/1/2017   \n",
       "4                                Terraria   17.2             NaN   5/1/2011   \n",
       "5                       World of Warcraft   14.0        Warcraft  11/1/2004   \n",
       "6                             Half-Life 2   12.0       Half-Life  11/1/2004   \n",
       "7                The Witcher 3: Wild Hunt   12.0     The Witcher   5/1/2015   \n",
       "..                                    ...    ...             ...        ...   \n",
       "172        Who Wants to Be a Millionaire?    1.0             NaN  11/1/1999   \n",
       "173  Wing Commander 3: Heart of the Tiger    1.0  Wing Commander  12/1/1994   \n",
       "174                            Zoo Tycoon    1.0      Zoo Tycoon  10/1/2001   \n",
       "175      StarCraft II: Heart of the Swarm    1.0       StarCraft   3/1/2013   \n",
       "176      StarCraft II: Legacy of the Void    1.0       StarCraft  11/1/2015   \n",
       "\n",
       "                       Genre               Developer  \\\n",
       "0              Battle royale            PUBG Studios   \n",
       "4           Action-adventure                Re-Logic   \n",
       "5                     MMORPG  Blizzard Entertainment   \n",
       "6       First-person shooter                   Valve   \n",
       "7        Action role-playing          CD Projekt Red   \n",
       "..                       ...                     ...   \n",
       "172              Trivia game             Jellyvision   \n",
       "173  Space combat simulation          Origin Systems   \n",
       "174      Business simulation               Microsoft   \n",
       "175       Real-time strategy  Blizzard Entertainment   \n",
       "176       Real-time strategy  Blizzard Entertainment   \n",
       "\n",
       "                      Publisher  \n",
       "0                       Krafton  \n",
       "4                      Re-Logic  \n",
       "5        Blizzard Entertainment  \n",
       "6               Valve (digital)  \n",
       "7                    CD Projekt  \n",
       "..                          ...  \n",
       "172  Disney Interactive Studios  \n",
       "173             Electronic Arts  \n",
       "174             Blue Fang Games  \n",
       "175      Blizzard Entertainment  \n",
       "176      Blizzard Entertainment  \n",
       "\n",
       "[174 rows x 7 columns]"
      ]
     },
     "execution_count": 175,
     "metadata": {},
     "output_type": "execute_result"
    }
   ],
   "source": [
    "# Call 'Sales' whose value < 20 or Developer is PUBG Studios\n",
    "\n",
    "df[(df['Sales']<20) | (df['Developer']=='PUBG Studios')]"
   ]
  },
  {
   "cell_type": "code",
   "execution_count": 177,
   "id": "1285652e-0cd3-433e-9b95-566ba99f7704",
   "metadata": {},
   "outputs": [
    {
     "data": {
      "text/html": [
       "<div>\n",
       "<style scoped>\n",
       "    .dataframe tbody tr th:only-of-type {\n",
       "        vertical-align: middle;\n",
       "    }\n",
       "\n",
       "    .dataframe tbody tr th {\n",
       "        vertical-align: top;\n",
       "    }\n",
       "\n",
       "    .dataframe thead th {\n",
       "        text-align: right;\n",
       "    }\n",
       "</style>\n",
       "<table border=\"1\" class=\"dataframe\">\n",
       "  <thead>\n",
       "    <tr style=\"text-align: right;\">\n",
       "      <th></th>\n",
       "      <th>Name</th>\n",
       "      <th>Sales</th>\n",
       "      <th>Series</th>\n",
       "      <th>Release</th>\n",
       "      <th>Genre</th>\n",
       "      <th>Developer</th>\n",
       "      <th>Publisher</th>\n",
       "    </tr>\n",
       "  </thead>\n",
       "  <tbody>\n",
       "    <tr>\n",
       "      <th>2</th>\n",
       "      <td>Diablo III</td>\n",
       "      <td>20.0</td>\n",
       "      <td>Diablo</td>\n",
       "      <td>5/1/2012</td>\n",
       "      <td>Action role-playing</td>\n",
       "      <td>Blizzard Entertainment</td>\n",
       "      <td>Blizzard Entertainment</td>\n",
       "    </tr>\n",
       "    <tr>\n",
       "      <th>3</th>\n",
       "      <td>Garry's Mod</td>\n",
       "      <td>20.0</td>\n",
       "      <td>NaN</td>\n",
       "      <td>11/1/2006</td>\n",
       "      <td>Sandbox</td>\n",
       "      <td>Facepunch Studios</td>\n",
       "      <td>Valve</td>\n",
       "    </tr>\n",
       "    <tr>\n",
       "      <th>4</th>\n",
       "      <td>Terraria</td>\n",
       "      <td>17.2</td>\n",
       "      <td>NaN</td>\n",
       "      <td>5/1/2011</td>\n",
       "      <td>Action-adventure</td>\n",
       "      <td>Re-Logic</td>\n",
       "      <td>Re-Logic</td>\n",
       "    </tr>\n",
       "    <tr>\n",
       "      <th>5</th>\n",
       "      <td>World of Warcraft</td>\n",
       "      <td>14.0</td>\n",
       "      <td>Warcraft</td>\n",
       "      <td>11/1/2004</td>\n",
       "      <td>MMORPG</td>\n",
       "      <td>Blizzard Entertainment</td>\n",
       "      <td>Blizzard Entertainment</td>\n",
       "    </tr>\n",
       "  </tbody>\n",
       "</table>\n",
       "</div>"
      ],
      "text/plain": [
       "                Name  Sales    Series    Release                Genre  \\\n",
       "2         Diablo III   20.0    Diablo   5/1/2012  Action role-playing   \n",
       "3        Garry's Mod   20.0       NaN  11/1/2006              Sandbox   \n",
       "4           Terraria   17.2       NaN   5/1/2011     Action-adventure   \n",
       "5  World of Warcraft   14.0  Warcraft  11/1/2004               MMORPG   \n",
       "\n",
       "                Developer               Publisher  \n",
       "2  Blizzard Entertainment  Blizzard Entertainment  \n",
       "3       Facepunch Studios                   Valve  \n",
       "4                Re-Logic                Re-Logic  \n",
       "5  Blizzard Entertainment  Blizzard Entertainment  "
      ]
     },
     "execution_count": 177,
     "metadata": {},
     "output_type": "execute_result"
    }
   ],
   "source": [
    "# Call 'Sales' value is between 12 and 33\n",
    "\n",
    "df[(df['Sales']>12) & (df['Sales']<33)]"
   ]
  },
  {
   "cell_type": "markdown",
   "id": "fdcdc859-2259-4ef1-abc3-191410f2cfa5",
   "metadata": {},
   "source": [
    "##### Combination"
   ]
  },
  {
   "cell_type": "code",
   "execution_count": 180,
   "id": "fb2ae105-b9a1-465a-b0fd-dc9d631881d3",
   "metadata": {},
   "outputs": [
    {
     "data": {
      "text/html": [
       "<div>\n",
       "<style scoped>\n",
       "    .dataframe tbody tr th:only-of-type {\n",
       "        vertical-align: middle;\n",
       "    }\n",
       "\n",
       "    .dataframe tbody tr th {\n",
       "        vertical-align: top;\n",
       "    }\n",
       "\n",
       "    .dataframe thead th {\n",
       "        text-align: right;\n",
       "    }\n",
       "</style>\n",
       "<table border=\"1\" class=\"dataframe\">\n",
       "  <thead>\n",
       "    <tr style=\"text-align: right;\">\n",
       "      <th></th>\n",
       "      <th>Name</th>\n",
       "      <th>Genre</th>\n",
       "      <th>Developer</th>\n",
       "    </tr>\n",
       "  </thead>\n",
       "  <tbody>\n",
       "    <tr>\n",
       "      <th>2</th>\n",
       "      <td>Diablo III</td>\n",
       "      <td>Action role-playing</td>\n",
       "      <td>Blizzard Entertainment</td>\n",
       "    </tr>\n",
       "    <tr>\n",
       "      <th>3</th>\n",
       "      <td>Garry's Mod</td>\n",
       "      <td>Sandbox</td>\n",
       "      <td>Facepunch Studios</td>\n",
       "    </tr>\n",
       "    <tr>\n",
       "      <th>4</th>\n",
       "      <td>Terraria</td>\n",
       "      <td>Action-adventure</td>\n",
       "      <td>Re-Logic</td>\n",
       "    </tr>\n",
       "    <tr>\n",
       "      <th>5</th>\n",
       "      <td>World of Warcraft</td>\n",
       "      <td>MMORPG</td>\n",
       "      <td>Blizzard Entertainment</td>\n",
       "    </tr>\n",
       "  </tbody>\n",
       "</table>\n",
       "</div>"
      ],
      "text/plain": [
       "                Name                Genre               Developer\n",
       "2         Diablo III  Action role-playing  Blizzard Entertainment\n",
       "3        Garry's Mod              Sandbox       Facepunch Studios\n",
       "4           Terraria     Action-adventure                Re-Logic\n",
       "5  World of Warcraft               MMORPG  Blizzard Entertainment"
      ]
     },
     "execution_count": 180,
     "metadata": {},
     "output_type": "execute_result"
    }
   ],
   "source": [
    "df[['Name', 'Genre', 'Developer']][(df['Sales']>12) & (df['Sales']<33)]"
   ]
  },
  {
   "cell_type": "code",
   "execution_count": null,
   "id": "c36ab2d2-36fc-4214-8655-c2a88408d1c2",
   "metadata": {},
   "outputs": [],
   "source": []
  }
 ],
 "metadata": {
  "kernelspec": {
   "display_name": "Python 3 (ipykernel)",
   "language": "python",
   "name": "python3"
  },
  "language_info": {
   "codemirror_mode": {
    "name": "ipython",
    "version": 3
   },
   "file_extension": ".py",
   "mimetype": "text/x-python",
   "name": "python",
   "nbconvert_exporter": "python",
   "pygments_lexer": "ipython3",
   "version": "3.11.7"
  }
 },
 "nbformat": 4,
 "nbformat_minor": 5
}
