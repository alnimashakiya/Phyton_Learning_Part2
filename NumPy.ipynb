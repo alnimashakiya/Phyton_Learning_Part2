{
 "cells": [
  {
   "cell_type": "markdown",
   "id": "b085f52d-5218-4c60-9ea5-b9306c4e3a38",
   "metadata": {},
   "source": [
    "# NUMPY\n",
    "\r\n",
    "NumPy is a powerful numerical computing library for Python. It provides support for large, multi-dimensional arrays and matrices, along with a collection of mathematical functions to operate on these arrays efficiently. "
   ]
  },
  {
   "cell_type": "markdown",
   "id": "4fb9b1db-173c-439c-af9b-c76383591a7c",
   "metadata": {},
   "source": [
    "#### you can import NumPy in your Python script or interactive session"
   ]
  },
  {
   "cell_type": "code",
   "execution_count": 53,
   "id": "6a9a813f-c15b-4571-ad86-90f3c73760b6",
   "metadata": {},
   "outputs": [],
   "source": [
    "# Import NumPy\n",
    "\n",
    "import numpy as np"
   ]
  },
  {
   "cell_type": "markdown",
   "id": "817689e2-4342-4dcf-8213-954f9c762cae",
   "metadata": {},
   "source": [
    "#### you can check NumPy Version\n",
    "\n",
    "NumPy version is the version number of the NumPy library being used. This version number provides information about the specific release of NumPy, including bug fixes, feature enhancements, and other changes that have been made in that version."
   ]
  },
  {
   "cell_type": "code",
   "execution_count": 54,
   "id": "88787a23-69e7-41bd-8dc0-a1479b22506f",
   "metadata": {},
   "outputs": [
    {
     "name": "stdout",
     "output_type": "stream",
     "text": [
      "1.26.4\n"
     ]
    }
   ],
   "source": [
    "# Checking NumPy Version\n",
    "\n",
    "print(np.__version__)"
   ]
  },
  {
   "cell_type": "markdown",
   "id": "b44a8c26-1f4d-45fa-9458-caf2c7b102b4",
   "metadata": {},
   "source": [
    "### NumPy Array"
   ]
  },
  {
   "cell_type": "markdown",
   "id": "3b71655b-609f-4f88-818c-7e5b887f073a",
   "metadata": {},
   "source": [
    "Arrays: NumPy provides the numpy.ndarray data structure, commonly known as arrays, which are similar to Python lists but more efficient for numerical computations. Arrays can have any number of dimensions and can hold elements of the same data type."
   ]
  },
  {
   "cell_type": "markdown",
   "id": "ae41f8a5-9142-484e-b56c-7d1870db3301",
   "metadata": {},
   "source": [
    "In the context of NumPy arrays, the terms \"dimension,\" \"row,\" and \"element\" refer to the main components of an array.\n",
    "\n",
    "- Dimension: Dimension refers to the number of axes or levels that an array has. For example, a one-dimensional array has one dimension (single axis), a two-dimensional array has two dimensions (horizontal and vertical axes), and so on. The number of dimensions of an array can be viewed using the ndim attribute of the array.\n",
    "\n",
    "- Row: In the context of two-dimensional arrays or higher, a row refers to a sequence of data that is horizontally located within the array. A row in a two-dimensional array consists of a set of data with the same dimension, for example, in a two-dimensional array, each row consists of the same number of elements. The number of rows in an array can be viewed using the shape attribute of the array.\n",
    "\n",
    "- Element: An element is an individual value contained within an array. Each element in an array has a specific location or index that indicates its position within the array. These elements can be accessed using indexing or slicing. For example, in a two-dimensional array, each element is a single value located at the intersection of a row and column."
   ]
  },
  {
   "cell_type": "markdown",
   "id": "8e85352a-86a3-4a8c-897a-2167268a9564",
   "metadata": {},
   "source": [
    "##### NumPy array 1D"
   ]
  },
  {
   "cell_type": "code",
   "execution_count": 12,
   "id": "040e5c9c-2d83-416c-aa01-1152b71ee56a",
   "metadata": {},
   "outputs": [
    {
     "name": "stdout",
     "output_type": "stream",
     "text": [
      "[1 2 3 4 5]\n"
     ]
    }
   ],
   "source": [
    "# Creating a NumPy array 1D\n",
    "\n",
    "arr = np.array ([1,2,3,4,5])\n",
    "print(arr)"
   ]
  },
  {
   "cell_type": "code",
   "execution_count": 15,
   "id": "1decbc76-d75b-4785-8b3b-20b6c6af3277",
   "metadata": {},
   "outputs": [
    {
     "name": "stdout",
     "output_type": "stream",
     "text": [
      "[1 2 3 4 5]\n",
      "<class 'numpy.ndarray'>\n"
     ]
    }
   ],
   "source": [
    "arr = np.array ([1,2,3,4,5])\n",
    "print(arr)\n",
    "print(type(arr))"
   ]
  },
  {
   "cell_type": "code",
   "execution_count": 16,
   "id": "df9df992-d26d-4227-b852-fc174df48d16",
   "metadata": {},
   "outputs": [
    {
     "name": "stdout",
     "output_type": "stream",
     "text": [
      "['apple, banana, cherry, date, elderberry']\n"
     ]
    }
   ],
   "source": [
    "my_list = np.array (['apple, banana, cherry, date, elderberry'])\n",
    "print(my_list)"
   ]
  },
  {
   "cell_type": "code",
   "execution_count": 17,
   "id": "73d61f66-c499-43d1-b2cc-60054ee24eaa",
   "metadata": {},
   "outputs": [
    {
     "name": "stdout",
     "output_type": "stream",
     "text": [
      "['apple, banana, cherry, date, elderberry']\n",
      "<class 'numpy.ndarray'>\n"
     ]
    }
   ],
   "source": [
    "my_list = np.array (['apple, banana, cherry, date, elderberry'])\n",
    "print(my_list)\n",
    "print(type(my_list))"
   ]
  },
  {
   "cell_type": "markdown",
   "id": "93afa3a3-8427-4821-98d9-a25cc9806d81",
   "metadata": {},
   "source": [
    "##### NumPy array 2D"
   ]
  },
  {
   "cell_type": "code",
   "execution_count": 18,
   "id": "9630612d-e990-4d2f-93e9-41bd20d60edc",
   "metadata": {},
   "outputs": [
    {
     "name": "stdout",
     "output_type": "stream",
     "text": [
      "[[1 2 3]\n",
      " [4 5 6]]\n"
     ]
    }
   ],
   "source": [
    "# Creating a NumPy array 2D\n",
    "\n",
    "arr = np.array ([[1, 2, 3], [4, 5, 6]])\n",
    "print(arr)"
   ]
  },
  {
   "cell_type": "code",
   "execution_count": 19,
   "id": "9919b267-ed0b-455f-a5ea-46fcfc634169",
   "metadata": {},
   "outputs": [
    {
     "name": "stdout",
     "output_type": "stream",
     "text": [
      "[[1 2 3]\n",
      " [4 5 6]]\n",
      "<class 'numpy.ndarray'>\n"
     ]
    }
   ],
   "source": [
    "arr = np.array ([[1, 2, 3], [4, 5, 6]])\n",
    "print(arr)\n",
    "print(type(arr))"
   ]
  },
  {
   "cell_type": "code",
   "execution_count": 20,
   "id": "4e692b55-b9f4-4586-a393-e567828b5a94",
   "metadata": {},
   "outputs": [
    {
     "name": "stdout",
     "output_type": "stream",
     "text": [
      "[['apple, banana, cherry']\n",
      " ['orange, date, elderberry']]\n",
      "<class 'numpy.ndarray'>\n"
     ]
    }
   ],
   "source": [
    "my_list = np.array ([['apple, banana, cherry'], ['orange, date, elderberry']])\n",
    "print(my_list)\n",
    "print(type(my_list))"
   ]
  },
  {
   "cell_type": "markdown",
   "id": "bdddb3f3-4518-4ce7-9564-738048d37fef",
   "metadata": {},
   "source": [
    "##### NumPy array 3D"
   ]
  },
  {
   "cell_type": "code",
   "execution_count": 22,
   "id": "051df244-a754-4475-b76f-5f1cd9f6919d",
   "metadata": {},
   "outputs": [
    {
     "name": "stdout",
     "output_type": "stream",
     "text": [
      "[[[1 2 3]\n",
      "  [4 5 6]\n",
      "  [7 8 9]]]\n",
      "<class 'numpy.ndarray'>\n"
     ]
    }
   ],
   "source": [
    "# Creating a NumPy array 3D\n",
    "\n",
    "arr = np.array ([[[1, 2, 3], [4, 5, 6], [7, 8, 9]]])\n",
    "print(arr)\n",
    "print(type(arr))"
   ]
  },
  {
   "cell_type": "code",
   "execution_count": 23,
   "id": "1e6dfdaf-399d-4bee-8e5b-316e8fad6134",
   "metadata": {},
   "outputs": [
    {
     "name": "stdout",
     "output_type": "stream",
     "text": [
      "[[['apple, banana']\n",
      "  ['cherry, orange']\n",
      "  ['date, elderberry']]]\n",
      "<class 'numpy.ndarray'>\n"
     ]
    }
   ],
   "source": [
    "my_list = np.array ([[['apple, banana'], ['cherry, orange'], ['date, elderberry']]])\n",
    "print(my_list)\n",
    "print(type(my_list))"
   ]
  },
  {
   "cell_type": "markdown",
   "id": "4b95b4c2-82a0-4bf7-a01e-c8141c64634f",
   "metadata": {},
   "source": [
    "##### Check how many dimensions the arrays have"
   ]
  },
  {
   "cell_type": "code",
   "execution_count": 24,
   "id": "6602d8f7-5e00-45b6-8edb-814d06b963c4",
   "metadata": {},
   "outputs": [
    {
     "name": "stdout",
     "output_type": "stream",
     "text": [
      "0\n",
      "1\n",
      "2\n",
      "3\n"
     ]
    }
   ],
   "source": [
    "a = np.array (50)\n",
    "b = np.array (['apple, banana, cherry, date, elderberry'])\n",
    "c = np.array ([['apple, banana, cherry'], ['orange, date, elderberry']])\n",
    "d = np.array ([[['apple, banana'], ['cherry, orange'], ['date, elderberry']]])\n",
    "\n",
    "print(a.ndim)\n",
    "print(b.ndim)\n",
    "print(c.ndim)\n",
    "print(d.ndim)"
   ]
  },
  {
   "cell_type": "markdown",
   "id": "ffb38f82-1c81-4cb1-b778-977565e2ef70",
   "metadata": {},
   "source": [
    "##### Create an array with 5 dimensions and verify that is has 5 dimensions"
   ]
  },
  {
   "cell_type": "code",
   "execution_count": 25,
   "id": "0b190c41-1d37-4f25-a574-941bca830be9",
   "metadata": {},
   "outputs": [
    {
     "name": "stdout",
     "output_type": "stream",
     "text": [
      "[[[[[1 2 3 4]]]]]\n",
      "number of dimension: 5\n"
     ]
    }
   ],
   "source": [
    "arr = np.array([1, 2, 3, 4], ndmin = 5)\n",
    "print(arr)\n",
    "print('number of dimension:', arr.ndim)"
   ]
  },
  {
   "cell_type": "code",
   "execution_count": 50,
   "id": "8ee79bcf-b953-4828-b1e5-5792a375effa",
   "metadata": {},
   "outputs": [
    {
     "name": "stdout",
     "output_type": "stream",
     "text": [
      "[[[[[[11 12 13 14]]]]]]\n",
      "number of dimension: 6\n"
     ]
    }
   ],
   "source": [
    "arr_x = np.array([11, 12, 13, 14], ndmin = 6)\n",
    "print(arr_x)\n",
    "print('number of dimension:', arr_x.ndim)"
   ]
  },
  {
   "cell_type": "markdown",
   "id": "bf0b8d80-c799-4be9-a8ab-e4faca6a6d3e",
   "metadata": {},
   "source": [
    "##### Reshape from one dimension to another dimension"
   ]
  },
  {
   "cell_type": "code",
   "execution_count": 52,
   "id": "a013034e-d454-4882-b8ed-6472aaace2b1",
   "metadata": {},
   "outputs": [
    {
     "name": "stdout",
     "output_type": "stream",
     "text": [
      "[[[[[[11 12 13 14]]]]]]\n",
      "number of dimension: 6\n",
      "[[[[[11 12 13 14]]]]]\n"
     ]
    }
   ],
   "source": [
    "arr_x = np.array([11, 12, 13, 14], ndmin = 6)\n",
    "print(arr_x)\n",
    "print('number of dimension:', arr_x.ndim)\n",
    "print(arr_x[0])"
   ]
  },
  {
   "cell_type": "markdown",
   "id": "e7c391a2-ced6-4a34-9eaf-a5a74c1eb1cd",
   "metadata": {},
   "source": [
    "##### Get the first element from the following array"
   ]
  },
  {
   "cell_type": "code",
   "execution_count": 28,
   "id": "e467381c-1893-408d-855f-032bbb574b0d",
   "metadata": {},
   "outputs": [
    {
     "name": "stdout",
     "output_type": "stream",
     "text": [
      "11\n"
     ]
    }
   ],
   "source": [
    "arr_x = np.array([11, 12, 13, 14])\n",
    "print(arr_x[0])"
   ]
  },
  {
   "cell_type": "markdown",
   "id": "b1927da3-f40b-4e50-a228-ee8cd14277b6",
   "metadata": {},
   "source": [
    "##### Get the second element from the following array"
   ]
  },
  {
   "cell_type": "code",
   "execution_count": 29,
   "id": "7b8747e7-4e4d-4283-84fc-bf4b6955ffd9",
   "metadata": {},
   "outputs": [
    {
     "name": "stdout",
     "output_type": "stream",
     "text": [
      "12\n"
     ]
    }
   ],
   "source": [
    "arr_x = np.array([11, 12, 13, 14])\n",
    "print(arr_x[1])"
   ]
  },
  {
   "cell_type": "markdown",
   "id": "e7a792c2-7898-42c4-9959-cab4e86ed424",
   "metadata": {},
   "source": [
    "##### Get the third and fourth elements from the following array and add them"
   ]
  },
  {
   "cell_type": "code",
   "execution_count": 30,
   "id": "6e85d63d-5aaf-4be1-afe7-40a29adce2d4",
   "metadata": {},
   "outputs": [
    {
     "name": "stdout",
     "output_type": "stream",
     "text": [
      "27\n"
     ]
    }
   ],
   "source": [
    "arr_x = np.array([11, 12, 13, 14])\n",
    "print(arr_x[2] + arr_x[3])"
   ]
  },
  {
   "cell_type": "markdown",
   "id": "fe2c8a37-3d63-4ffc-809e-4dfc8ab8e7f2",
   "metadata": {},
   "source": [
    "##### Access the element on the first row, second column"
   ]
  },
  {
   "cell_type": "code",
   "execution_count": 31,
   "id": "62612ed9-78eb-4e06-a67b-f58a907ee963",
   "metadata": {},
   "outputs": [
    {
     "name": "stdout",
     "output_type": "stream",
     "text": [
      "2nd element on 1st row: 12\n"
     ]
    }
   ],
   "source": [
    "arr_x = np.array([[11, 12, 13, 14, 15], [16, 17, 18, 19, 20]])\n",
    "print('2nd element on 1st row:', arr_x[0, 1])"
   ]
  },
  {
   "cell_type": "markdown",
   "id": "331e8f82-ac22-42b5-abeb-6ef94f0d78f7",
   "metadata": {},
   "source": [
    "##### Access the element on the 2nd row, 5th column"
   ]
  },
  {
   "cell_type": "code",
   "execution_count": 33,
   "id": "b5be18fc-56f2-4d40-992e-412b781b3fb6",
   "metadata": {},
   "outputs": [
    {
     "name": "stdout",
     "output_type": "stream",
     "text": [
      "5th element on 2nd row: 20\n"
     ]
    }
   ],
   "source": [
    "arr_x = np.array([[11, 12, 13, 14, 15], [16, 17, 18, 19, 20]])\n",
    "print('5th element on 2nd row:', arr_x[1, 4]) #[row, element]"
   ]
  },
  {
   "cell_type": "markdown",
   "id": "6e5707a7-cfce-4dd7-b5c9-58ae3ddf4a24",
   "metadata": {},
   "source": [
    "##### Access the 3rd element of the 2nd array of the 1st array"
   ]
  },
  {
   "cell_type": "code",
   "execution_count": 40,
   "id": "1f3c4783-cf03-4b9f-895a-3027697340b6",
   "metadata": {},
   "outputs": [
    {
     "name": "stdout",
     "output_type": "stream",
     "text": [
      "19\n"
     ]
    }
   ],
   "source": [
    "arr_x = np.array([[[11, 12, 13], [14, 15, 16]], [[17, 18, 19], [20, 21, 22]]])\n",
    "print(arr_x[1, 0, 2]) #[dim, row, element]"
   ]
  },
  {
   "cell_type": "markdown",
   "id": "7cb95c9f-8eb0-4478-98db-08d84a4a2d60",
   "metadata": {},
   "source": [
    "##### Example 4D"
   ]
  },
  {
   "cell_type": "code",
   "execution_count": 47,
   "id": "81f0dc48-fbcb-464f-96a8-dae0aaa49839",
   "metadata": {},
   "outputs": [
    {
     "name": "stdout",
     "output_type": "stream",
     "text": [
      "6\n"
     ]
    }
   ],
   "source": [
    "arr_x = np.array([[[1, 2, 3], [4, 5, 6]], [[7, 8, 9], [10, 11, 12]], [[13, 14, 15], [16, 17, 18]], [[19, 20, 21], [22, 23, 24]]])\n",
    "print(arr_x[0, 1, 2]) #[dim, row, element]"
   ]
  },
  {
   "cell_type": "markdown",
   "id": "e3f2fed7-9ea9-4f6b-9877-655cb0db5099",
   "metadata": {},
   "source": [
    "_- dim 0 = [[1, 2, 3], [4, 5, 6]]_\n",
    "_- row 1 = [4, 5, 6]_\n",
    "_- element 2 = 6_"
   ]
  },
  {
   "cell_type": "markdown",
   "id": "83816157-33f3-416d-b3da-0fbd1c067f95",
   "metadata": {},
   "source": [
    "##### Print the last element from the 2nd dimensions"
   ]
  },
  {
   "cell_type": "code",
   "execution_count": 56,
   "id": "5d7f376e-2f4c-4faf-804a-598fb51e383e",
   "metadata": {},
   "outputs": [
    {
     "name": "stdout",
     "output_type": "stream",
     "text": [
      "Last element from 2nd dimensions: 20\n"
     ]
    }
   ],
   "source": [
    "arr_x = np.array([[11, 12, 13, 14, 15], [16, 17, 18, 19, 20]])\n",
    "print('Last element from 2nd dimensions:', arr_x[1, -1])"
   ]
  },
  {
   "cell_type": "markdown",
   "id": "509d81c1-5aae-4d01-83bd-67516d3388d6",
   "metadata": {},
   "source": [
    "The provided code snippet initializes a NumPy array arr_x with dimensions 2x5 (2 rows and 5 columns). Here's the explanation of the code and its output:\n",
    "\n",
    "- arr_x = np.array([[11, 12, 13, 14, 15], [16, 17, 18, 19, 20]]): This line creates a NumPy array with 2 rows and 5 columns. Each row contains a sequence of integers from 11 to 15 for the first row and from 16 to 20 for the second row.\n",
    "\n",
    "- print('Last element from 2nd dimensions:', arr_x[1, -1]): This line prints the last element from the second dimension (dimension index 1) of the array. In NumPy indexing, -1 refers to the last element, -2 refers to the second last element, and so on. Since we're accessing the second row (index 1) and the last element of that row, arr_x[1, -1] accesses the last element of the second row and prints its value."
   ]
  },
  {
   "cell_type": "markdown",
   "id": "f5800eea-4760-4e04-b8da-41c9f038a02b",
   "metadata": {},
   "source": []
  }
 ],
 "metadata": {
  "kernelspec": {
   "display_name": "Python 3 (ipykernel)",
   "language": "python",
   "name": "python3"
  },
  "language_info": {
   "codemirror_mode": {
    "name": "ipython",
    "version": 3
   },
   "file_extension": ".py",
   "mimetype": "text/x-python",
   "name": "python",
   "nbconvert_exporter": "python",
   "pygments_lexer": "ipython3",
   "version": "3.11.7"
  }
 },
 "nbformat": 4,
 "nbformat_minor": 5
}
