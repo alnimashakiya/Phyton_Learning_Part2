{
 "cells": [
  {
   "cell_type": "markdown",
   "id": "50b60b5a-4192-4e8d-a852-09f58414d0ce",
   "metadata": {},
   "source": [
    "# RANDOM LIBRARY\n",
    "\n",
    "The random library in Python provides functionalities for generating random numbers. It's commonly used in various applications ranging from simulations to games to cryptography. "
   ]
  },
  {
   "cell_type": "markdown",
   "id": "1884a9a0-e9c3-4326-b6f4-20a74e7bbfbc",
   "metadata": {},
   "source": [
    "Here's a basic overview of some commonly used functions from the random module:\n",
    "\n",
    "- random(): This function returns a random floating-point number in the range [0.0, 1.0).\n",
    "- randint(a, b): Returns a random integer N such that a <= N <= b.\n",
    "- choice(seq): Returns a random element from the non-empty sequence seq.\n",
    "- shuffle(seq): Randomly shuffles the elements of the sequence seq in place.\n",
    "- sample(population, k): Returns a k length list of unique elements chosen from the population sequence or set.\n",
    "\n",
    "These are just a few functions from the random module. There are more functions available for different specific purposes like generating random choices from weighted distributions, generating random numbers with a specified distribution (normal distribution, for example), and more."
   ]
  },
  {
   "cell_type": "code",
   "execution_count": 1,
   "id": "017c3adc-362f-4acf-83ea-8e77e51ea2bc",
   "metadata": {},
   "outputs": [],
   "source": [
    "from random import randint"
   ]
  },
  {
   "cell_type": "markdown",
   "id": "bc44aa56-a3fa-4a9a-a031-21a3c6b3f6ad",
   "metadata": {},
   "source": [
    "### Example"
   ]
  },
  {
   "cell_type": "code",
   "execution_count": 2,
   "id": "10614f6d-39c3-48d8-9456-69e3721819f6",
   "metadata": {},
   "outputs": [
    {
     "name": "stdout",
     "output_type": "stream",
     "text": [
      "Random num 0 is 7\n",
      "Random num 1 is 3\n",
      "Random num 2 is 7\n",
      "Random num 3 is 7\n",
      "Random num 4 is 3\n",
      "Random num 5 is 5\n",
      "Random num 6 is 9\n",
      "Random num 7 is 6\n",
      "Random num 8 is 4\n",
      "Random num 9 is 10\n"
     ]
    }
   ],
   "source": [
    "for i in range(10):\n",
    "    print(f\"Random num {i} is {randint(1,10)}\")"
   ]
  },
  {
   "cell_type": "code",
   "execution_count": 3,
   "id": "8e36623d-89c5-4191-8d7d-6a52cbc710e6",
   "metadata": {},
   "outputs": [
    {
     "name": "stdout",
     "output_type": "stream",
     "text": [
      "Random num 0 is 7\n",
      "Random num 1 is 9\n",
      "Random num 2 is 9\n",
      "Random num 3 is 1\n",
      "Random num 4 is 8\n",
      "Random num 5 is 1\n",
      "Random num 6 is 9\n",
      "Random num 7 is 5\n",
      "Random num 8 is 4\n",
      "Random num 9 is 10\n"
     ]
    }
   ],
   "source": [
    "for i in range(10):\n",
    "    print(f\"Random num {i} is {randint(1,10)}\")"
   ]
  },
  {
   "cell_type": "code",
   "execution_count": 11,
   "id": "2e4148ec-d8d1-49c4-a218-0eb018a80d56",
   "metadata": {},
   "outputs": [
    {
     "name": "stdout",
     "output_type": "stream",
     "text": [
      "Random num 0 is 28\n",
      "Random num 1 is 26\n",
      "Random num 2 is 24\n",
      "Random num 3 is 22\n",
      "Random num 4 is 28\n",
      "Random num 5 is 27\n"
     ]
    }
   ],
   "source": [
    "for i in range(6):\n",
    "    print(f\"Random num {i} is {randint(20,30)}\")"
   ]
  },
  {
   "cell_type": "markdown",
   "id": "847d7b30-b5db-45ee-b7ea-a0f159a0e32c",
   "metadata": {},
   "source": [
    "_The data that comes out will be random and different._"
   ]
  },
  {
   "cell_type": "markdown",
   "id": "8d236ace-7164-4153-b770-1f357dd0a7a4",
   "metadata": {},
   "source": [
    "### More Example"
   ]
  },
  {
   "cell_type": "code",
   "execution_count": 9,
   "id": "3fbaad48-f11f-4028-a273-03b63041fef4",
   "metadata": {},
   "outputs": [
    {
     "name": "stdout",
     "output_type": "stream",
     "text": [
      "Random num is: [96, 45, 98, 75, 32, 65, 78, 11, 40, 25]\n"
     ]
    }
   ],
   "source": [
    "import time\n",
    "\n",
    "class Random:\n",
    "    def __init__(self, seed=None):\n",
    "        self.seed = seed if seed is not None else int(time.time())\n",
    "\n",
    "    def randint(self, a, b):\n",
    "        self.seed = (self.seed * 1103515245 + 12345) % (1 << 31)\n",
    "        return (self.seed % (b - a + 1)) + a\n",
    "\n",
    "# Create an instance of the Random class\n",
    "random_gen = Random()\n",
    "\n",
    "# Generate a list of 10 random integers between 1 and 100\n",
    "random_list = [random_gen.randint(1, 100) for _ in range(10)]\n",
    "\n",
    "# Print the generated list\n",
    "print('Random num is:',random_list)"
   ]
  },
  {
   "cell_type": "markdown",
   "id": "8ee92582-743d-4f56-bed4-e2a2e0e4d00b",
   "metadata": {},
   "source": [
    "_This code will create a list random_list containing 10 random integers between 1 and 100. Each integer is generated using the randint(a, b) method of the Random class._"
   ]
  },
  {
   "cell_type": "markdown",
   "id": "5151e9d9-253f-4426-b677-104cf6035c4c",
   "metadata": {},
   "source": [
    "- import time: This line imports the time module, which provides various time-related functions. In this code, it's used to get the current time.\n",
    "- class Random:: This line defines a class named Random. Classes are blueprints for creating objects, and in this case, we're creating a class to handle random number generation.\n",
    "- def __init__(self, seed=None):: This is the constructor method (__init__) of the Random class. It initializes new instances of the class. It takes an optional argument seed, which is used to initialize the random number generator. If no seed is provided, it defaults to the current time.\n",
    "- self.seed = seed if seed is not None else int(time.time()): This line initializes the seed attribute of the Random object. If a seed is provided, it uses that value. Otherwise, it generates a seed based on the current time using int(time.time()).\n",
    "- def randint(self, a, b):: This line defines a method named randint inside the Random class. This method generates a random integer between a and b, inclusive.\n",
    "- self.seed = (self.seed * 1103515245 + 12345) % (1 << 31): This line updates the seed using a linear congruential generator algorithm, which is a simple algorithm to generate pseudo-random numbers. It multiplies the current seed by a constant, adds another constant, and takes the result modulo a large prime number.\n",
    "- return (self.seed % (b - a + 1)) + a: This line calculates the random integer between a and b using the updated seed. It first calculates the range between a and b, adds 1 to include both endpoints, then takes the modulo of the current seed within that range and adds a to shift the result to the desired range.\n",
    "- random_gen = Random(): This line creates an instance of the Random class named random_gen. This instance will be used to generate random numbers.\n",
    "- random_list = [random_gen.randint(1, 100) for _ in range(10)]: This line generates a list of 10 random integers between 1 and 100 using a list comprehension. It calls the randint method of the random_gen object to generate each random integer.\n",
    "- print('Random num is:', random_list): This line prints the generated list of random numbers."
   ]
  },
  {
   "cell_type": "markdown",
   "id": "11ebba20-9b10-47b3-b15d-f45b11d7a872",
   "metadata": {},
   "source": []
  }
 ],
 "metadata": {
  "kernelspec": {
   "display_name": "Python 3 (ipykernel)",
   "language": "python",
   "name": "python3"
  },
  "language_info": {
   "codemirror_mode": {
    "name": "ipython",
    "version": 3
   },
   "file_extension": ".py",
   "mimetype": "text/x-python",
   "name": "python",
   "nbconvert_exporter": "python",
   "pygments_lexer": "ipython3",
   "version": "3.11.7"
  }
 },
 "nbformat": 4,
 "nbformat_minor": 5
}
